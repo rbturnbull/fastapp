{
 "cells": [
  {
   "cell_type": "code",
   "execution_count": 1,
   "metadata": {},
   "outputs": [],
   "source": [
    "import pandas as pd\n",
    "import torch\n",
    "import plotly.express as px\n",
    "import warnings\n",
    "warnings.filterwarnings('ignore')"
   ]
  },
  {
   "cell_type": "code",
   "execution_count": 11,
   "metadata": {},
   "outputs": [],
   "source": [
    "from torch.distributions.gamma import Gamma\n",
    "torch.manual_seed(0)\n",
    "obese_weights = Gamma(concentration=20,rate=0.1).rsample((100,))\n",
    "non_obese_weights = Gamma(concentration=20,rate=0.2).rsample((200,))"
   ]
  },
  {
   "cell_type": "code",
   "execution_count": 12,
   "metadata": {},
   "outputs": [
    {
     "data": {
      "text/html": [
       "<div>\n",
       "<style scoped>\n",
       "    .dataframe tbody tr th:only-of-type {\n",
       "        vertical-align: middle;\n",
       "    }\n",
       "\n",
       "    .dataframe tbody tr th {\n",
       "        vertical-align: top;\n",
       "    }\n",
       "\n",
       "    .dataframe thead th {\n",
       "        text-align: right;\n",
       "    }\n",
       "</style>\n",
       "<table border=\"1\" class=\"dataframe\">\n",
       "  <thead>\n",
       "    <tr style=\"text-align: right;\">\n",
       "      <th></th>\n",
       "      <th>weight</th>\n",
       "      <th>obese</th>\n",
       "    </tr>\n",
       "  </thead>\n",
       "  <tbody>\n",
       "    <tr>\n",
       "      <th>0</th>\n",
       "      <td>273.226562</td>\n",
       "      <td>True</td>\n",
       "    </tr>\n",
       "    <tr>\n",
       "      <th>1</th>\n",
       "      <td>183.938828</td>\n",
       "      <td>True</td>\n",
       "    </tr>\n",
       "    <tr>\n",
       "      <th>2</th>\n",
       "      <td>152.385315</td>\n",
       "      <td>True</td>\n",
       "    </tr>\n",
       "    <tr>\n",
       "      <th>3</th>\n",
       "      <td>140.934738</td>\n",
       "      <td>True</td>\n",
       "    </tr>\n",
       "    <tr>\n",
       "      <th>4</th>\n",
       "      <td>166.463028</td>\n",
       "      <td>True</td>\n",
       "    </tr>\n",
       "    <tr>\n",
       "      <th>...</th>\n",
       "      <td>...</td>\n",
       "      <td>...</td>\n",
       "    </tr>\n",
       "    <tr>\n",
       "      <th>295</th>\n",
       "      <td>101.598389</td>\n",
       "      <td>False</td>\n",
       "    </tr>\n",
       "    <tr>\n",
       "      <th>296</th>\n",
       "      <td>82.611061</td>\n",
       "      <td>False</td>\n",
       "    </tr>\n",
       "    <tr>\n",
       "      <th>297</th>\n",
       "      <td>104.013634</td>\n",
       "      <td>False</td>\n",
       "    </tr>\n",
       "    <tr>\n",
       "      <th>298</th>\n",
       "      <td>102.232864</td>\n",
       "      <td>False</td>\n",
       "    </tr>\n",
       "    <tr>\n",
       "      <th>299</th>\n",
       "      <td>58.893036</td>\n",
       "      <td>False</td>\n",
       "    </tr>\n",
       "  </tbody>\n",
       "</table>\n",
       "<p>300 rows × 2 columns</p>\n",
       "</div>"
      ],
      "text/plain": [
       "         weight  obese\n",
       "0    273.226562   True\n",
       "1    183.938828   True\n",
       "2    152.385315   True\n",
       "3    140.934738   True\n",
       "4    166.463028   True\n",
       "..          ...    ...\n",
       "295  101.598389  False\n",
       "296   82.611061  False\n",
       "297  104.013634  False\n",
       "298  102.232864  False\n",
       "299   58.893036  False\n",
       "\n",
       "[300 rows x 2 columns]"
      ]
     },
     "execution_count": 12,
     "metadata": {},
     "output_type": "execute_result"
    }
   ],
   "source": [
    "obese_df = pd.DataFrame(obese_weights, columns=[\"weight\"])\n",
    "obese_df[\"obese\"] = True\n",
    "non_obese_df = pd.DataFrame(non_obese_weights, columns=[\"weight\"])\n",
    "non_obese_df[\"obese\"] = False\n",
    "df = pd.concat([obese_df, non_obese_df], axis=0, ignore_index=True)\n",
    "csv_path = \"../../tests/expected/TestLogisticRegressionApp/mice.csv\"\n",
    "df.to_csv(csv_path, index=False)\n",
    "df"
   ]
  },
  {
   "cell_type": "code",
   "execution_count": 13,
   "metadata": {},
   "outputs": [
    {
     "data": {
      "application/vnd.plotly.v1+json": {
       "config": {
        "plotlyServerURL": "https://plot.ly"
       },
       "data": [
        {
         "alignmentgroup": "True",
         "boxpoints": "all",
         "hovertemplate": "obese=%{y}<br>weight=%{x}<extra></extra>",
         "legendgroup": "True",
         "marker": {
          "color": "#636efa"
         },
         "name": "True",
         "notched": false,
         "offsetgroup": "True",
         "orientation": "h",
         "showlegend": true,
         "type": "box",
         "x": [
          273.2265625,
          183.93882751464844,
          152.38531494140625,
          140.9347381591797,
          166.46302795410156,
          179.31634521484375,
          161.0694122314453,
          249.6243896484375,
          172.60598754882812,
          213.6815948486328,
          213.55409240722656,
          268.58770751953125,
          205.298828125,
          258.2048034667969,
          195.74217224121094,
          166.49386596679688,
          205.30455017089844,
          221.73236083984375,
          154.44544982910156,
          175.2848358154297,
          194.87954711914062,
          209.72251892089844,
          152.23342895507812,
          185.07920837402344,
          302.7546691894531,
          195.0999755859375,
          249.55401611328125,
          345.9888000488281,
          137.17254638671875,
          168.78619384765625,
          184.30039978027344,
          190.8080596923828,
          177.03050231933594,
          182.13967895507812,
          265.22442626953125,
          253.3074188232422,
          143.16766357421875,
          238.688232421875,
          206.76669311523438,
          222.17428588867188,
          202.57089233398438,
          245.4453582763672,
          156.48435974121094,
          229.92422485351562,
          169.38082885742188,
          189.6953887939453,
          207.7763671875,
          190.9069061279297,
          209.063720703125,
          222.94297790527344,
          262.496826171875,
          322.4184875488281,
          105.25997924804688,
          238.1065216064453,
          219.62603759765625,
          174.3596954345703,
          172.89300537109375,
          191.40554809570312,
          152.24685668945312,
          196.8621826171875,
          168.0648651123047,
          266.876220703125,
          298.7705993652344,
          230.26963806152344,
          214.7351837158203,
          200.66156005859375,
          121.58211517333984,
          225.8560333251953,
          211.8444366455078,
          278.97125244140625,
          254.18763732910156,
          256.1336975097656,
          249.9869384765625,
          227.30409240722656,
          203.15826416015625,
          140.19442749023438,
          211.56527709960938,
          139.3211212158203,
          158.3321533203125,
          233.07411193847656,
          155.8807830810547,
          282.00146484375,
          245.8300323486328,
          151.02377319335938,
          252.904296875,
          203.4828338623047,
          122.623779296875,
          145.19093322753906,
          183.77259826660156,
          273.5133361816406,
          176.27523803710938,
          281.8180847167969,
          191.00570678710938,
          244.75328063964844,
          175.51783752441406,
          295.4339599609375,
          189.0066680908203,
          212.7355499267578,
          193.63656616210938,
          112.55931854248047
         ],
         "x0": " ",
         "xaxis": "x",
         "y": [
          true,
          true,
          true,
          true,
          true,
          true,
          true,
          true,
          true,
          true,
          true,
          true,
          true,
          true,
          true,
          true,
          true,
          true,
          true,
          true,
          true,
          true,
          true,
          true,
          true,
          true,
          true,
          true,
          true,
          true,
          true,
          true,
          true,
          true,
          true,
          true,
          true,
          true,
          true,
          true,
          true,
          true,
          true,
          true,
          true,
          true,
          true,
          true,
          true,
          true,
          true,
          true,
          true,
          true,
          true,
          true,
          true,
          true,
          true,
          true,
          true,
          true,
          true,
          true,
          true,
          true,
          true,
          true,
          true,
          true,
          true,
          true,
          true,
          true,
          true,
          true,
          true,
          true,
          true,
          true,
          true,
          true,
          true,
          true,
          true,
          true,
          true,
          true,
          true,
          true,
          true,
          true,
          true,
          true,
          true,
          true,
          true,
          true,
          true,
          true
         ],
         "y0": " ",
         "yaxis": "y"
        },
        {
         "alignmentgroup": "True",
         "boxpoints": "all",
         "hovertemplate": "obese=%{y}<br>weight=%{x}<extra></extra>",
         "legendgroup": "False",
         "marker": {
          "color": "#EF553B"
         },
         "name": "False",
         "notched": false,
         "offsetgroup": "False",
         "orientation": "h",
         "showlegend": true,
         "type": "box",
         "x": [
          88.60037994384766,
          94.54379272460938,
          67.70846557617188,
          89.29423522949219,
          118.23860931396484,
          87.57118225097656,
          117.50325012207031,
          96.54269409179688,
          83.35807037353516,
          111.09180450439453,
          106.62554931640625,
          110.66148376464844,
          106.53382110595703,
          117.06414794921875,
          107.17178344726562,
          141.93215942382812,
          93.9619369506836,
          129.0203857421875,
          91.52738189697266,
          121.31871795654297,
          114.64826202392578,
          132.7126007080078,
          106.65061950683594,
          107.04940795898438,
          82.76145935058594,
          77.80506896972656,
          85.82730102539062,
          110.14385223388672,
          100.37371826171875,
          96.67027282714844,
          102.98731994628906,
          122.03038024902344,
          186.02687072753906,
          93.6104736328125,
          129.56149291992188,
          94.8564224243164,
          81.69754791259766,
          92.75594329833984,
          138.04766845703125,
          85.36040496826172,
          125.34281921386719,
          119.05582427978516,
          113.7996826171875,
          115.81216430664062,
          81.94699096679688,
          74.15618133544922,
          85.76069641113281,
          64.9329833984375,
          72.48100280761719,
          125.49214935302734,
          86.98558044433594,
          86.89491271972656,
          131.63153076171875,
          104.17340850830078,
          122.48326110839844,
          100.79376220703125,
          116.29509735107422,
          79.49443817138672,
          95.95601654052734,
          126.29933166503906,
          86.7300796508789,
          85.77886199951172,
          104.15699005126953,
          86.30687713623047,
          92.60921478271484,
          90.84584045410156,
          78.27213287353516,
          109.78437042236328,
          90.12506103515625,
          128.49197387695312,
          72.35831451416016,
          97.16016387939453,
          131.61167907714844,
          94.94795989990234,
          117.14801025390625,
          58.77150344848633,
          74.5702133178711,
          104.4001693725586,
          57.72114562988281,
          93.33454132080078,
          99.11473083496094,
          120.75176239013672,
          85.19805145263672,
          106.00150299072266,
          85.43067169189453,
          99.7961196899414,
          124.20524597167969,
          78.20037078857422,
          121.31436157226562,
          99.65003967285156,
          82.69707489013672,
          84.29122924804688,
          116.78286743164062,
          90.50308990478516,
          186.0579071044922,
          91.45436096191406,
          107.72130584716797,
          62.938724517822266,
          106.26778411865234,
          74.26087188720703,
          100.99625396728516,
          84.89665985107422,
          95.68814849853516,
          87.62432861328125,
          69.56327056884766,
          116.00335693359375,
          54.94804763793945,
          132.0372314453125,
          74.44740295410156,
          118.25125885009766,
          95.69995880126953,
          114.85154724121094,
          103.42036437988281,
          110.1539535522461,
          130.47389221191406,
          111.29554748535156,
          132.57608032226562,
          86.06267547607422,
          151.6079559326172,
          98.51695251464844,
          90.86536407470703,
          104.2169189453125,
          68.72403717041016,
          117.71847534179688,
          80.38026428222656,
          104.13834381103516,
          117.42881774902344,
          60.862159729003906,
          82.94640350341797,
          78.72095489501953,
          117.6146011352539,
          92.64812469482422,
          163.27157592773438,
          108.773193359375,
          75.05049133300781,
          63.76519775390625,
          85.3366928100586,
          105.17977905273438,
          95.5430908203125,
          77.93782806396484,
          119.78988647460938,
          125.1124496459961,
          110.63233184814453,
          87.7175521850586,
          102.71773529052734,
          99.54927062988281,
          48.846649169921875,
          73.3939208984375,
          98.24844360351562,
          67.43311309814453,
          69.38970184326172,
          55.67686080932617,
          135.145263671875,
          103.27657318115234,
          69.15414428710938,
          106.98649597167969,
          92.0265121459961,
          68.4990463256836,
          83.1493148803711,
          66.353271484375,
          52.39188003540039,
          116.4674301147461,
          108.7767562866211,
          112.2357177734375,
          93.77938842773438,
          120.63720703125,
          85.87071990966797,
          124.3162612915039,
          155.55130004882812,
          93.26813507080078,
          76.2863540649414,
          92.89901733398438,
          98.97198486328125,
          72.793212890625,
          155.12709045410156,
          129.89776611328125,
          88.00975036621094,
          147.7099609375,
          81.6058349609375,
          104.03710174560547,
          86.59419250488281,
          114.74758911132812,
          54.64630126953125,
          74.93346405029297,
          93.5177001953125,
          93.2225112915039,
          156.18528747558594,
          77.93392181396484,
          90.30831146240234,
          88.95561981201172,
          136.0335693359375,
          154.08145141601562,
          79.1733169555664,
          126.6786117553711,
          103.59587860107422,
          101.598388671875,
          82.6110610961914,
          104.01363372802734,
          102.23286437988281,
          58.893035888671875
         ],
         "x0": " ",
         "xaxis": "x",
         "y": [
          false,
          false,
          false,
          false,
          false,
          false,
          false,
          false,
          false,
          false,
          false,
          false,
          false,
          false,
          false,
          false,
          false,
          false,
          false,
          false,
          false,
          false,
          false,
          false,
          false,
          false,
          false,
          false,
          false,
          false,
          false,
          false,
          false,
          false,
          false,
          false,
          false,
          false,
          false,
          false,
          false,
          false,
          false,
          false,
          false,
          false,
          false,
          false,
          false,
          false,
          false,
          false,
          false,
          false,
          false,
          false,
          false,
          false,
          false,
          false,
          false,
          false,
          false,
          false,
          false,
          false,
          false,
          false,
          false,
          false,
          false,
          false,
          false,
          false,
          false,
          false,
          false,
          false,
          false,
          false,
          false,
          false,
          false,
          false,
          false,
          false,
          false,
          false,
          false,
          false,
          false,
          false,
          false,
          false,
          false,
          false,
          false,
          false,
          false,
          false,
          false,
          false,
          false,
          false,
          false,
          false,
          false,
          false,
          false,
          false,
          false,
          false,
          false,
          false,
          false,
          false,
          false,
          false,
          false,
          false,
          false,
          false,
          false,
          false,
          false,
          false,
          false,
          false,
          false,
          false,
          false,
          false,
          false,
          false,
          false,
          false,
          false,
          false,
          false,
          false,
          false,
          false,
          false,
          false,
          false,
          false,
          false,
          false,
          false,
          false,
          false,
          false,
          false,
          false,
          false,
          false,
          false,
          false,
          false,
          false,
          false,
          false,
          false,
          false,
          false,
          false,
          false,
          false,
          false,
          false,
          false,
          false,
          false,
          false,
          false,
          false,
          false,
          false,
          false,
          false,
          false,
          false,
          false,
          false,
          false,
          false,
          false,
          false,
          false,
          false,
          false,
          false,
          false,
          false,
          false,
          false,
          false,
          false,
          false,
          false
         ],
         "y0": " ",
         "yaxis": "y"
        }
       ],
       "layout": {
        "boxmode": "overlay",
        "legend": {
         "title": {
          "text": "obese"
         },
         "tracegroupgap": 0
        },
        "margin": {
         "t": 60
        },
        "showlegend": false,
        "template": {
         "data": {
          "bar": [
           {
            "error_x": {
             "color": "#2a3f5f"
            },
            "error_y": {
             "color": "#2a3f5f"
            },
            "marker": {
             "line": {
              "color": "#E5ECF6",
              "width": 0.5
             },
             "pattern": {
              "fillmode": "overlay",
              "size": 10,
              "solidity": 0.2
             }
            },
            "type": "bar"
           }
          ],
          "barpolar": [
           {
            "marker": {
             "line": {
              "color": "#E5ECF6",
              "width": 0.5
             },
             "pattern": {
              "fillmode": "overlay",
              "size": 10,
              "solidity": 0.2
             }
            },
            "type": "barpolar"
           }
          ],
          "carpet": [
           {
            "aaxis": {
             "endlinecolor": "#2a3f5f",
             "gridcolor": "white",
             "linecolor": "white",
             "minorgridcolor": "white",
             "startlinecolor": "#2a3f5f"
            },
            "baxis": {
             "endlinecolor": "#2a3f5f",
             "gridcolor": "white",
             "linecolor": "white",
             "minorgridcolor": "white",
             "startlinecolor": "#2a3f5f"
            },
            "type": "carpet"
           }
          ],
          "choropleth": [
           {
            "colorbar": {
             "outlinewidth": 0,
             "ticks": ""
            },
            "type": "choropleth"
           }
          ],
          "contour": [
           {
            "colorbar": {
             "outlinewidth": 0,
             "ticks": ""
            },
            "colorscale": [
             [
              0,
              "#0d0887"
             ],
             [
              0.1111111111111111,
              "#46039f"
             ],
             [
              0.2222222222222222,
              "#7201a8"
             ],
             [
              0.3333333333333333,
              "#9c179e"
             ],
             [
              0.4444444444444444,
              "#bd3786"
             ],
             [
              0.5555555555555556,
              "#d8576b"
             ],
             [
              0.6666666666666666,
              "#ed7953"
             ],
             [
              0.7777777777777778,
              "#fb9f3a"
             ],
             [
              0.8888888888888888,
              "#fdca26"
             ],
             [
              1,
              "#f0f921"
             ]
            ],
            "type": "contour"
           }
          ],
          "contourcarpet": [
           {
            "colorbar": {
             "outlinewidth": 0,
             "ticks": ""
            },
            "type": "contourcarpet"
           }
          ],
          "heatmap": [
           {
            "colorbar": {
             "outlinewidth": 0,
             "ticks": ""
            },
            "colorscale": [
             [
              0,
              "#0d0887"
             ],
             [
              0.1111111111111111,
              "#46039f"
             ],
             [
              0.2222222222222222,
              "#7201a8"
             ],
             [
              0.3333333333333333,
              "#9c179e"
             ],
             [
              0.4444444444444444,
              "#bd3786"
             ],
             [
              0.5555555555555556,
              "#d8576b"
             ],
             [
              0.6666666666666666,
              "#ed7953"
             ],
             [
              0.7777777777777778,
              "#fb9f3a"
             ],
             [
              0.8888888888888888,
              "#fdca26"
             ],
             [
              1,
              "#f0f921"
             ]
            ],
            "type": "heatmap"
           }
          ],
          "heatmapgl": [
           {
            "colorbar": {
             "outlinewidth": 0,
             "ticks": ""
            },
            "colorscale": [
             [
              0,
              "#0d0887"
             ],
             [
              0.1111111111111111,
              "#46039f"
             ],
             [
              0.2222222222222222,
              "#7201a8"
             ],
             [
              0.3333333333333333,
              "#9c179e"
             ],
             [
              0.4444444444444444,
              "#bd3786"
             ],
             [
              0.5555555555555556,
              "#d8576b"
             ],
             [
              0.6666666666666666,
              "#ed7953"
             ],
             [
              0.7777777777777778,
              "#fb9f3a"
             ],
             [
              0.8888888888888888,
              "#fdca26"
             ],
             [
              1,
              "#f0f921"
             ]
            ],
            "type": "heatmapgl"
           }
          ],
          "histogram": [
           {
            "marker": {
             "pattern": {
              "fillmode": "overlay",
              "size": 10,
              "solidity": 0.2
             }
            },
            "type": "histogram"
           }
          ],
          "histogram2d": [
           {
            "colorbar": {
             "outlinewidth": 0,
             "ticks": ""
            },
            "colorscale": [
             [
              0,
              "#0d0887"
             ],
             [
              0.1111111111111111,
              "#46039f"
             ],
             [
              0.2222222222222222,
              "#7201a8"
             ],
             [
              0.3333333333333333,
              "#9c179e"
             ],
             [
              0.4444444444444444,
              "#bd3786"
             ],
             [
              0.5555555555555556,
              "#d8576b"
             ],
             [
              0.6666666666666666,
              "#ed7953"
             ],
             [
              0.7777777777777778,
              "#fb9f3a"
             ],
             [
              0.8888888888888888,
              "#fdca26"
             ],
             [
              1,
              "#f0f921"
             ]
            ],
            "type": "histogram2d"
           }
          ],
          "histogram2dcontour": [
           {
            "colorbar": {
             "outlinewidth": 0,
             "ticks": ""
            },
            "colorscale": [
             [
              0,
              "#0d0887"
             ],
             [
              0.1111111111111111,
              "#46039f"
             ],
             [
              0.2222222222222222,
              "#7201a8"
             ],
             [
              0.3333333333333333,
              "#9c179e"
             ],
             [
              0.4444444444444444,
              "#bd3786"
             ],
             [
              0.5555555555555556,
              "#d8576b"
             ],
             [
              0.6666666666666666,
              "#ed7953"
             ],
             [
              0.7777777777777778,
              "#fb9f3a"
             ],
             [
              0.8888888888888888,
              "#fdca26"
             ],
             [
              1,
              "#f0f921"
             ]
            ],
            "type": "histogram2dcontour"
           }
          ],
          "mesh3d": [
           {
            "colorbar": {
             "outlinewidth": 0,
             "ticks": ""
            },
            "type": "mesh3d"
           }
          ],
          "parcoords": [
           {
            "line": {
             "colorbar": {
              "outlinewidth": 0,
              "ticks": ""
             }
            },
            "type": "parcoords"
           }
          ],
          "pie": [
           {
            "automargin": true,
            "type": "pie"
           }
          ],
          "scatter": [
           {
            "fillpattern": {
             "fillmode": "overlay",
             "size": 10,
             "solidity": 0.2
            },
            "type": "scatter"
           }
          ],
          "scatter3d": [
           {
            "line": {
             "colorbar": {
              "outlinewidth": 0,
              "ticks": ""
             }
            },
            "marker": {
             "colorbar": {
              "outlinewidth": 0,
              "ticks": ""
             }
            },
            "type": "scatter3d"
           }
          ],
          "scattercarpet": [
           {
            "marker": {
             "colorbar": {
              "outlinewidth": 0,
              "ticks": ""
             }
            },
            "type": "scattercarpet"
           }
          ],
          "scattergeo": [
           {
            "marker": {
             "colorbar": {
              "outlinewidth": 0,
              "ticks": ""
             }
            },
            "type": "scattergeo"
           }
          ],
          "scattergl": [
           {
            "marker": {
             "colorbar": {
              "outlinewidth": 0,
              "ticks": ""
             }
            },
            "type": "scattergl"
           }
          ],
          "scattermapbox": [
           {
            "marker": {
             "colorbar": {
              "outlinewidth": 0,
              "ticks": ""
             }
            },
            "type": "scattermapbox"
           }
          ],
          "scatterpolar": [
           {
            "marker": {
             "colorbar": {
              "outlinewidth": 0,
              "ticks": ""
             }
            },
            "type": "scatterpolar"
           }
          ],
          "scatterpolargl": [
           {
            "marker": {
             "colorbar": {
              "outlinewidth": 0,
              "ticks": ""
             }
            },
            "type": "scatterpolargl"
           }
          ],
          "scatterternary": [
           {
            "marker": {
             "colorbar": {
              "outlinewidth": 0,
              "ticks": ""
             }
            },
            "type": "scatterternary"
           }
          ],
          "surface": [
           {
            "colorbar": {
             "outlinewidth": 0,
             "ticks": ""
            },
            "colorscale": [
             [
              0,
              "#0d0887"
             ],
             [
              0.1111111111111111,
              "#46039f"
             ],
             [
              0.2222222222222222,
              "#7201a8"
             ],
             [
              0.3333333333333333,
              "#9c179e"
             ],
             [
              0.4444444444444444,
              "#bd3786"
             ],
             [
              0.5555555555555556,
              "#d8576b"
             ],
             [
              0.6666666666666666,
              "#ed7953"
             ],
             [
              0.7777777777777778,
              "#fb9f3a"
             ],
             [
              0.8888888888888888,
              "#fdca26"
             ],
             [
              1,
              "#f0f921"
             ]
            ],
            "type": "surface"
           }
          ],
          "table": [
           {
            "cells": {
             "fill": {
              "color": "#EBF0F8"
             },
             "line": {
              "color": "white"
             }
            },
            "header": {
             "fill": {
              "color": "#C8D4E3"
             },
             "line": {
              "color": "white"
             }
            },
            "type": "table"
           }
          ]
         },
         "layout": {
          "annotationdefaults": {
           "arrowcolor": "#2a3f5f",
           "arrowhead": 0,
           "arrowwidth": 1
          },
          "autotypenumbers": "strict",
          "coloraxis": {
           "colorbar": {
            "outlinewidth": 0,
            "ticks": ""
           }
          },
          "colorscale": {
           "diverging": [
            [
             0,
             "#8e0152"
            ],
            [
             0.1,
             "#c51b7d"
            ],
            [
             0.2,
             "#de77ae"
            ],
            [
             0.3,
             "#f1b6da"
            ],
            [
             0.4,
             "#fde0ef"
            ],
            [
             0.5,
             "#f7f7f7"
            ],
            [
             0.6,
             "#e6f5d0"
            ],
            [
             0.7,
             "#b8e186"
            ],
            [
             0.8,
             "#7fbc41"
            ],
            [
             0.9,
             "#4d9221"
            ],
            [
             1,
             "#276419"
            ]
           ],
           "sequential": [
            [
             0,
             "#0d0887"
            ],
            [
             0.1111111111111111,
             "#46039f"
            ],
            [
             0.2222222222222222,
             "#7201a8"
            ],
            [
             0.3333333333333333,
             "#9c179e"
            ],
            [
             0.4444444444444444,
             "#bd3786"
            ],
            [
             0.5555555555555556,
             "#d8576b"
            ],
            [
             0.6666666666666666,
             "#ed7953"
            ],
            [
             0.7777777777777778,
             "#fb9f3a"
            ],
            [
             0.8888888888888888,
             "#fdca26"
            ],
            [
             1,
             "#f0f921"
            ]
           ],
           "sequentialminus": [
            [
             0,
             "#0d0887"
            ],
            [
             0.1111111111111111,
             "#46039f"
            ],
            [
             0.2222222222222222,
             "#7201a8"
            ],
            [
             0.3333333333333333,
             "#9c179e"
            ],
            [
             0.4444444444444444,
             "#bd3786"
            ],
            [
             0.5555555555555556,
             "#d8576b"
            ],
            [
             0.6666666666666666,
             "#ed7953"
            ],
            [
             0.7777777777777778,
             "#fb9f3a"
            ],
            [
             0.8888888888888888,
             "#fdca26"
            ],
            [
             1,
             "#f0f921"
            ]
           ]
          },
          "colorway": [
           "#636efa",
           "#EF553B",
           "#00cc96",
           "#ab63fa",
           "#FFA15A",
           "#19d3f3",
           "#FF6692",
           "#B6E880",
           "#FF97FF",
           "#FECB52"
          ],
          "font": {
           "color": "#2a3f5f"
          },
          "geo": {
           "bgcolor": "white",
           "lakecolor": "white",
           "landcolor": "#E5ECF6",
           "showlakes": true,
           "showland": true,
           "subunitcolor": "white"
          },
          "hoverlabel": {
           "align": "left"
          },
          "hovermode": "closest",
          "mapbox": {
           "style": "light"
          },
          "paper_bgcolor": "white",
          "plot_bgcolor": "#E5ECF6",
          "polar": {
           "angularaxis": {
            "gridcolor": "white",
            "linecolor": "white",
            "ticks": ""
           },
           "bgcolor": "#E5ECF6",
           "radialaxis": {
            "gridcolor": "white",
            "linecolor": "white",
            "ticks": ""
           }
          },
          "scene": {
           "xaxis": {
            "backgroundcolor": "#E5ECF6",
            "gridcolor": "white",
            "gridwidth": 2,
            "linecolor": "white",
            "showbackground": true,
            "ticks": "",
            "zerolinecolor": "white"
           },
           "yaxis": {
            "backgroundcolor": "#E5ECF6",
            "gridcolor": "white",
            "gridwidth": 2,
            "linecolor": "white",
            "showbackground": true,
            "ticks": "",
            "zerolinecolor": "white"
           },
           "zaxis": {
            "backgroundcolor": "#E5ECF6",
            "gridcolor": "white",
            "gridwidth": 2,
            "linecolor": "white",
            "showbackground": true,
            "ticks": "",
            "zerolinecolor": "white"
           }
          },
          "shapedefaults": {
           "line": {
            "color": "#2a3f5f"
           }
          },
          "ternary": {
           "aaxis": {
            "gridcolor": "white",
            "linecolor": "white",
            "ticks": ""
           },
           "baxis": {
            "gridcolor": "white",
            "linecolor": "white",
            "ticks": ""
           },
           "bgcolor": "#E5ECF6",
           "caxis": {
            "gridcolor": "white",
            "linecolor": "white",
            "ticks": ""
           }
          },
          "title": {
           "x": 0.05
          },
          "xaxis": {
           "automargin": true,
           "gridcolor": "white",
           "linecolor": "white",
           "ticks": "",
           "title": {
            "standoff": 15
           },
           "zerolinecolor": "white",
           "zerolinewidth": 2
          },
          "yaxis": {
           "automargin": true,
           "gridcolor": "white",
           "linecolor": "white",
           "ticks": "",
           "title": {
            "standoff": 15
           },
           "zerolinecolor": "white",
           "zerolinewidth": 2
          }
         }
        },
        "xaxis": {
         "anchor": "y",
         "domain": [
          0,
          1
         ],
         "title": {
          "text": "weight"
         }
        },
        "yaxis": {
         "anchor": "x",
         "categoryarray": [
          false,
          true
         ],
         "categoryorder": "array",
         "domain": [
          0,
          1
         ],
         "title": {
          "text": "obese"
         }
        }
       }
      }
     },
     "metadata": {},
     "output_type": "display_data"
    }
   ],
   "source": [
    "fig = px.box(df, x=\"weight\", y=\"obese\", color=\"obese\", points=\"all\")\n",
    "fig.update_layout(\n",
    "    showlegend=False,\n",
    ")\n",
    "fig.show()"
   ]
  },
  {
   "cell_type": "code",
   "execution_count": 14,
   "metadata": {},
   "outputs": [],
   "source": [
    "from fastapp.examples.logistic_regression import LogisticRegressionApp\n",
    "\n",
    "app = LogisticRegressionApp()"
   ]
  },
  {
   "cell_type": "code",
   "execution_count": 15,
   "metadata": {},
   "outputs": [
    {
     "data": {
      "text/html": [
       "<pre style=\"white-space:pre;overflow-x:auto;line-height:normal;font-family:Menlo,'DejaVu Sans Mono',consolas,'Courier New',monospace\"><span style=\"font-weight: bold\">Building dataloaders</span>\n",
       "</pre>\n"
      ],
      "text/plain": [
       "\u001b[1mBuilding dataloaders\u001b[0m\n"
      ]
     },
     "metadata": {},
     "output_type": "display_data"
    },
    {
     "data": {
      "text/html": [
       "<pre style=\"white-space:pre;overflow-x:auto;line-height:normal;font-family:Menlo,'DejaVu Sans Mono',consolas,'Courier New',monospace\"><span style=\"font-weight: bold\">Building model</span>\n",
       "</pre>\n"
      ],
      "text/plain": [
       "\u001b[1mBuilding model\u001b[0m\n"
      ]
     },
     "metadata": {},
     "output_type": "display_data"
    },
    {
     "data": {
      "text/html": [
       "<pre style=\"white-space:pre;overflow-x:auto;line-height:normal;font-family:Menlo,'DejaVu Sans Mono',consolas,'Courier New',monospace\"><span style=\"font-weight: bold\">Building learner</span>\n",
       "</pre>\n"
      ],
      "text/plain": [
       "\u001b[1mBuilding learner\u001b[0m\n"
      ]
     },
     "metadata": {},
     "output_type": "display_data"
    },
    {
     "data": {
      "text/html": [
       "<pre style=\"white-space:pre;overflow-x:auto;line-height:normal;font-family:Menlo,'DejaVu Sans Mono',consolas,'Courier New',monospace\"><span style=\"color: #800000; text-decoration-color: #800000\">Setting floating-point precision of learner to </span><span style=\"color: #008080; text-decoration-color: #008080; font-weight: bold\">16</span><span style=\"color: #800000; text-decoration-color: #800000\"> bit</span>\n",
       "</pre>\n"
      ],
      "text/plain": [
       "\u001b[31mSetting floating-point precision of learner to \u001b[0m\u001b[1;36m16\u001b[0m\u001b[31m bit\u001b[0m\n"
      ]
     },
     "metadata": {},
     "output_type": "display_data"
    },
    {
     "data": {
      "text/html": [
       "<pre style=\"white-space:pre;overflow-x:auto;line-height:normal;font-family:Menlo,'DejaVu Sans Mono',consolas,'Courier New',monospace\"><span style=\"color: #800000; text-decoration-color: #800000; font-weight: bold\">--------------------------------------------------------------------------</span>\n",
       "</pre>\n"
      ],
      "text/plain": [
       "\u001b[1;31m--------------------------------------------------------------------------\u001b[0m\n"
      ]
     },
     "metadata": {},
     "output_type": "display_data"
    },
    {
     "data": {
      "text/html": [
       "<pre style=\"white-space:pre;overflow-x:auto;line-height:normal;font-family:Menlo,'DejaVu Sans Mono',consolas,'Courier New',monospace\"><span style=\"color: #800000; text-decoration-color: #800000; font-weight: bold\">Please cite these references if using this app in an academic publication:</span>\n",
       "</pre>\n"
      ],
      "text/plain": [
       "\u001b[1;31mPlease cite these references if using this app in an academic publication:\u001b[0m\n"
      ]
     },
     "metadata": {},
     "output_type": "display_data"
    },
    {
     "name": "stdout",
     "output_type": "stream",
     "text": [
      "[1] J. Howard and S. Gugger. Deep Learning for Coders with Fastai and Pytorch: AI Applications Without a PhD. O'Reilly Media, Incorporated, 2020. ISBN 9781492045526. URL: https://books.google.no/books?id=xd6LxgEACAAJ.\n",
      "[2] Jeremy Howard and Sylvain Gugger. Fastai: A Layered API for Deep Learning. Information, 2020. URL: https://www.mdpi.com/2078-2489/11/2/108, doi:10.3390/info11020108.\n",
      "[3] Robert Turnbull and Jonathan Garber. FastApp: A wrapper for fastai projects to create easy command-line inferfaces and manage hyper-parameter tuning. JOSS, 2022 (forthcoming).\n",
      "\n"
     ]
    },
    {
     "data": {
      "text/html": [
       "<pre style=\"white-space:pre;overflow-x:auto;line-height:normal;font-family:Menlo,'DejaVu Sans Mono',consolas,'Courier New',monospace\"><span style=\"color: #800000; text-decoration-color: #800000; font-weight: bold\">--------------------------------------------------------------------------</span>\n",
       "</pre>\n"
      ],
      "text/plain": [
       "\u001b[1;31m--------------------------------------------------------------------------\u001b[0m\n"
      ]
     },
     "metadata": {},
     "output_type": "display_data"
    },
    {
     "data": {
      "text/html": [
       "\n",
       "<style>\n",
       "    /* Turns off some styling */\n",
       "    progress {\n",
       "        /* gets rid of default border in Firefox and Opera. */\n",
       "        border: none;\n",
       "        /* Needs to be in here for Safari polyfill so background images work as expected. */\n",
       "        background-size: auto;\n",
       "    }\n",
       "    .progress-bar-interrupted, .progress-bar-interrupted::-webkit-progress-bar {\n",
       "        background: #F44336;\n",
       "    }\n",
       "</style>\n"
      ],
      "text/plain": [
       "<IPython.core.display.HTML object>"
      ]
     },
     "metadata": {},
     "output_type": "display_data"
    },
    {
     "data": {
      "text/html": [
       "<table border=\"1\" class=\"dataframe\">\n",
       "  <thead>\n",
       "    <tr style=\"text-align: left;\">\n",
       "      <th>epoch</th>\n",
       "      <th>train_loss</th>\n",
       "      <th>valid_loss</th>\n",
       "      <th>logit_accuracy</th>\n",
       "      <th>logit_f1</th>\n",
       "      <th>time</th>\n",
       "    </tr>\n",
       "  </thead>\n",
       "  <tbody>\n",
       "    <tr>\n",
       "      <td>0</td>\n",
       "      <td>1.364746</td>\n",
       "      <td>1.187492</td>\n",
       "      <td>0.683333</td>\n",
       "      <td>0.000000</td>\n",
       "      <td>00:01</td>\n",
       "    </tr>\n",
       "    <tr>\n",
       "      <td>1</td>\n",
       "      <td>1.260636</td>\n",
       "      <td>1.060322</td>\n",
       "      <td>0.683333</td>\n",
       "      <td>0.000000</td>\n",
       "      <td>00:00</td>\n",
       "    </tr>\n",
       "    <tr>\n",
       "      <td>2</td>\n",
       "      <td>1.175401</td>\n",
       "      <td>0.934218</td>\n",
       "      <td>0.616667</td>\n",
       "      <td>0.000000</td>\n",
       "      <td>00:01</td>\n",
       "    </tr>\n",
       "    <tr>\n",
       "      <td>3</td>\n",
       "      <td>1.097060</td>\n",
       "      <td>0.850980</td>\n",
       "      <td>0.183333</td>\n",
       "      <td>0.000000</td>\n",
       "      <td>00:00</td>\n",
       "    </tr>\n",
       "    <tr>\n",
       "      <td>4</td>\n",
       "      <td>1.038751</td>\n",
       "      <td>0.878878</td>\n",
       "      <td>0.316667</td>\n",
       "      <td>0.479760</td>\n",
       "      <td>00:00</td>\n",
       "    </tr>\n",
       "    <tr>\n",
       "      <td>5</td>\n",
       "      <td>1.007430</td>\n",
       "      <td>0.944562</td>\n",
       "      <td>0.316667</td>\n",
       "      <td>0.479760</td>\n",
       "      <td>00:00</td>\n",
       "    </tr>\n",
       "    <tr>\n",
       "      <td>6</td>\n",
       "      <td>0.989850</td>\n",
       "      <td>0.897637</td>\n",
       "      <td>0.316667</td>\n",
       "      <td>0.479760</td>\n",
       "      <td>00:00</td>\n",
       "    </tr>\n",
       "    <tr>\n",
       "      <td>7</td>\n",
       "      <td>0.964246</td>\n",
       "      <td>0.837636</td>\n",
       "      <td>0.050000</td>\n",
       "      <td>0.034568</td>\n",
       "      <td>00:01</td>\n",
       "    </tr>\n",
       "    <tr>\n",
       "      <td>8</td>\n",
       "      <td>0.944998</td>\n",
       "      <td>0.851590</td>\n",
       "      <td>0.333333</td>\n",
       "      <td>0.000000</td>\n",
       "      <td>00:00</td>\n",
       "    </tr>\n",
       "    <tr>\n",
       "      <td>9</td>\n",
       "      <td>0.930303</td>\n",
       "      <td>0.831948</td>\n",
       "      <td>0.100000</td>\n",
       "      <td>0.156078</td>\n",
       "      <td>00:00</td>\n",
       "    </tr>\n",
       "    <tr>\n",
       "      <td>10</td>\n",
       "      <td>0.914980</td>\n",
       "      <td>0.846901</td>\n",
       "      <td>0.300000</td>\n",
       "      <td>0.458947</td>\n",
       "      <td>00:00</td>\n",
       "    </tr>\n",
       "    <tr>\n",
       "      <td>11</td>\n",
       "      <td>0.902161</td>\n",
       "      <td>0.820698</td>\n",
       "      <td>0.033333</td>\n",
       "      <td>0.033333</td>\n",
       "      <td>00:00</td>\n",
       "    </tr>\n",
       "    <tr>\n",
       "      <td>12</td>\n",
       "      <td>0.889807</td>\n",
       "      <td>0.816568</td>\n",
       "      <td>0.116667</td>\n",
       "      <td>0.184762</td>\n",
       "      <td>00:00</td>\n",
       "    </tr>\n",
       "    <tr>\n",
       "      <td>13</td>\n",
       "      <td>0.879176</td>\n",
       "      <td>0.810449</td>\n",
       "      <td>0.116667</td>\n",
       "      <td>0.184762</td>\n",
       "      <td>00:00</td>\n",
       "    </tr>\n",
       "    <tr>\n",
       "      <td>14</td>\n",
       "      <td>0.868890</td>\n",
       "      <td>0.801315</td>\n",
       "      <td>0.133333</td>\n",
       "      <td>0.000000</td>\n",
       "      <td>00:01</td>\n",
       "    </tr>\n",
       "    <tr>\n",
       "      <td>15</td>\n",
       "      <td>0.860608</td>\n",
       "      <td>0.806851</td>\n",
       "      <td>0.316667</td>\n",
       "      <td>0.479760</td>\n",
       "      <td>00:00</td>\n",
       "    </tr>\n",
       "    <tr>\n",
       "      <td>16</td>\n",
       "      <td>0.851906</td>\n",
       "      <td>0.786976</td>\n",
       "      <td>0.183333</td>\n",
       "      <td>0.305185</td>\n",
       "      <td>00:00</td>\n",
       "    </tr>\n",
       "    <tr>\n",
       "      <td>17</td>\n",
       "      <td>0.842558</td>\n",
       "      <td>0.782473</td>\n",
       "      <td>0.300000</td>\n",
       "      <td>0.458947</td>\n",
       "      <td>00:00</td>\n",
       "    </tr>\n",
       "    <tr>\n",
       "      <td>18</td>\n",
       "      <td>0.835105</td>\n",
       "      <td>0.787591</td>\n",
       "      <td>0.316667</td>\n",
       "      <td>0.479760</td>\n",
       "      <td>00:00</td>\n",
       "    </tr>\n",
       "    <tr>\n",
       "      <td>19</td>\n",
       "      <td>0.826402</td>\n",
       "      <td>0.756020</td>\n",
       "      <td>0.033333</td>\n",
       "      <td>0.000000</td>\n",
       "      <td>00:00</td>\n",
       "    </tr>\n",
       "    <tr>\n",
       "      <td>20</td>\n",
       "      <td>0.816558</td>\n",
       "      <td>0.746280</td>\n",
       "      <td>0.050000</td>\n",
       "      <td>0.034568</td>\n",
       "      <td>00:00</td>\n",
       "    </tr>\n",
       "    <tr>\n",
       "      <td>21</td>\n",
       "      <td>0.809522</td>\n",
       "      <td>0.764824</td>\n",
       "      <td>0.316667</td>\n",
       "      <td>0.479760</td>\n",
       "      <td>00:00</td>\n",
       "    </tr>\n",
       "    <tr>\n",
       "      <td>22</td>\n",
       "      <td>0.803643</td>\n",
       "      <td>0.804645</td>\n",
       "      <td>0.316667</td>\n",
       "      <td>0.479760</td>\n",
       "      <td>00:00</td>\n",
       "    </tr>\n",
       "    <tr>\n",
       "      <td>23</td>\n",
       "      <td>0.798055</td>\n",
       "      <td>0.736619</td>\n",
       "      <td>0.683333</td>\n",
       "      <td>0.000000</td>\n",
       "      <td>00:00</td>\n",
       "    </tr>\n",
       "    <tr>\n",
       "      <td>24</td>\n",
       "      <td>0.793594</td>\n",
       "      <td>0.711463</td>\n",
       "      <td>0.683333</td>\n",
       "      <td>0.000000</td>\n",
       "      <td>00:00</td>\n",
       "    </tr>\n",
       "    <tr>\n",
       "      <td>25</td>\n",
       "      <td>0.786284</td>\n",
       "      <td>0.711827</td>\n",
       "      <td>0.316667</td>\n",
       "      <td>0.479760</td>\n",
       "      <td>00:01</td>\n",
       "    </tr>\n",
       "    <tr>\n",
       "      <td>26</td>\n",
       "      <td>0.781209</td>\n",
       "      <td>0.720187</td>\n",
       "      <td>0.316667</td>\n",
       "      <td>0.479760</td>\n",
       "      <td>00:00</td>\n",
       "    </tr>\n",
       "    <tr>\n",
       "      <td>27</td>\n",
       "      <td>0.770054</td>\n",
       "      <td>0.718675</td>\n",
       "      <td>0.683333</td>\n",
       "      <td>0.000000</td>\n",
       "      <td>00:00</td>\n",
       "    </tr>\n",
       "    <tr>\n",
       "      <td>28</td>\n",
       "      <td>0.762593</td>\n",
       "      <td>0.671996</td>\n",
       "      <td>0.683333</td>\n",
       "      <td>0.000000</td>\n",
       "      <td>00:00</td>\n",
       "    </tr>\n",
       "    <tr>\n",
       "      <td>29</td>\n",
       "      <td>0.753070</td>\n",
       "      <td>0.668449</td>\n",
       "      <td>0.433333</td>\n",
       "      <td>0.526126</td>\n",
       "      <td>00:00</td>\n",
       "    </tr>\n",
       "    <tr>\n",
       "      <td>30</td>\n",
       "      <td>0.740810</td>\n",
       "      <td>0.656501</td>\n",
       "      <td>0.816667</td>\n",
       "      <td>0.782043</td>\n",
       "      <td>00:00</td>\n",
       "    </tr>\n",
       "    <tr>\n",
       "      <td>31</td>\n",
       "      <td>0.728908</td>\n",
       "      <td>0.647102</td>\n",
       "      <td>0.916667</td>\n",
       "      <td>0.885797</td>\n",
       "      <td>00:00</td>\n",
       "    </tr>\n",
       "    <tr>\n",
       "      <td>32</td>\n",
       "      <td>0.717478</td>\n",
       "      <td>0.640222</td>\n",
       "      <td>0.866667</td>\n",
       "      <td>0.838974</td>\n",
       "      <td>00:00</td>\n",
       "    </tr>\n",
       "    <tr>\n",
       "      <td>33</td>\n",
       "      <td>0.707580</td>\n",
       "      <td>0.636274</td>\n",
       "      <td>0.766667</td>\n",
       "      <td>0.733333</td>\n",
       "      <td>00:00</td>\n",
       "    </tr>\n",
       "    <tr>\n",
       "      <td>34</td>\n",
       "      <td>0.696967</td>\n",
       "      <td>0.622358</td>\n",
       "      <td>0.750000</td>\n",
       "      <td>0.349495</td>\n",
       "      <td>00:00</td>\n",
       "    </tr>\n",
       "    <tr>\n",
       "      <td>35</td>\n",
       "      <td>0.688268</td>\n",
       "      <td>0.624946</td>\n",
       "      <td>0.683333</td>\n",
       "      <td>0.000000</td>\n",
       "      <td>00:00</td>\n",
       "    </tr>\n",
       "    <tr>\n",
       "      <td>36</td>\n",
       "      <td>0.680084</td>\n",
       "      <td>0.608953</td>\n",
       "      <td>0.950000</td>\n",
       "      <td>0.933333</td>\n",
       "      <td>00:00</td>\n",
       "    </tr>\n",
       "    <tr>\n",
       "      <td>37</td>\n",
       "      <td>0.671686</td>\n",
       "      <td>0.636552</td>\n",
       "      <td>0.450000</td>\n",
       "      <td>0.533333</td>\n",
       "      <td>00:00</td>\n",
       "    </tr>\n",
       "    <tr>\n",
       "      <td>38</td>\n",
       "      <td>0.663830</td>\n",
       "      <td>0.611092</td>\n",
       "      <td>0.683333</td>\n",
       "      <td>0.000000</td>\n",
       "      <td>00:00</td>\n",
       "    </tr>\n",
       "    <tr>\n",
       "      <td>39</td>\n",
       "      <td>0.659580</td>\n",
       "      <td>0.602002</td>\n",
       "      <td>0.683333</td>\n",
       "      <td>0.000000</td>\n",
       "      <td>00:00</td>\n",
       "    </tr>\n",
       "    <tr>\n",
       "      <td>40</td>\n",
       "      <td>0.651795</td>\n",
       "      <td>0.599304</td>\n",
       "      <td>0.750000</td>\n",
       "      <td>0.717333</td>\n",
       "      <td>00:00</td>\n",
       "    </tr>\n",
       "    <tr>\n",
       "      <td>41</td>\n",
       "      <td>0.645935</td>\n",
       "      <td>0.575552</td>\n",
       "      <td>0.950000</td>\n",
       "      <td>0.933333</td>\n",
       "      <td>00:00</td>\n",
       "    </tr>\n",
       "    <tr>\n",
       "      <td>42</td>\n",
       "      <td>0.638606</td>\n",
       "      <td>0.568467</td>\n",
       "      <td>0.900000</td>\n",
       "      <td>0.810980</td>\n",
       "      <td>00:00</td>\n",
       "    </tr>\n",
       "    <tr>\n",
       "      <td>43</td>\n",
       "      <td>0.629631</td>\n",
       "      <td>0.562667</td>\n",
       "      <td>0.950000</td>\n",
       "      <td>0.921961</td>\n",
       "      <td>00:00</td>\n",
       "    </tr>\n",
       "    <tr>\n",
       "      <td>44</td>\n",
       "      <td>0.620916</td>\n",
       "      <td>0.556752</td>\n",
       "      <td>0.950000</td>\n",
       "      <td>0.921961</td>\n",
       "      <td>00:00</td>\n",
       "    </tr>\n",
       "    <tr>\n",
       "      <td>45</td>\n",
       "      <td>0.615454</td>\n",
       "      <td>0.571901</td>\n",
       "      <td>0.683333</td>\n",
       "      <td>0.000000</td>\n",
       "      <td>00:00</td>\n",
       "    </tr>\n",
       "    <tr>\n",
       "      <td>46</td>\n",
       "      <td>0.609370</td>\n",
       "      <td>0.580806</td>\n",
       "      <td>0.716667</td>\n",
       "      <td>0.688889</td>\n",
       "      <td>00:00</td>\n",
       "    </tr>\n",
       "    <tr>\n",
       "      <td>47</td>\n",
       "      <td>0.602465</td>\n",
       "      <td>0.541007</td>\n",
       "      <td>0.883333</td>\n",
       "      <td>0.789630</td>\n",
       "      <td>00:00</td>\n",
       "    </tr>\n",
       "    <tr>\n",
       "      <td>48</td>\n",
       "      <td>0.595279</td>\n",
       "      <td>0.536116</td>\n",
       "      <td>0.883333</td>\n",
       "      <td>0.789630</td>\n",
       "      <td>00:00</td>\n",
       "    </tr>\n",
       "    <tr>\n",
       "      <td>49</td>\n",
       "      <td>0.587128</td>\n",
       "      <td>0.540988</td>\n",
       "      <td>0.900000</td>\n",
       "      <td>0.868889</td>\n",
       "      <td>00:00</td>\n",
       "    </tr>\n",
       "    <tr>\n",
       "      <td>50</td>\n",
       "      <td>0.581095</td>\n",
       "      <td>0.528691</td>\n",
       "      <td>0.866667</td>\n",
       "      <td>0.730952</td>\n",
       "      <td>00:00</td>\n",
       "    </tr>\n",
       "    <tr>\n",
       "      <td>51</td>\n",
       "      <td>0.574033</td>\n",
       "      <td>0.525912</td>\n",
       "      <td>0.950000</td>\n",
       "      <td>0.933333</td>\n",
       "      <td>00:00</td>\n",
       "    </tr>\n",
       "    <tr>\n",
       "      <td>52</td>\n",
       "      <td>0.567835</td>\n",
       "      <td>0.522050</td>\n",
       "      <td>0.950000</td>\n",
       "      <td>0.933333</td>\n",
       "      <td>00:00</td>\n",
       "    </tr>\n",
       "    <tr>\n",
       "      <td>53</td>\n",
       "      <td>0.560699</td>\n",
       "      <td>0.513773</td>\n",
       "      <td>0.883333</td>\n",
       "      <td>0.789630</td>\n",
       "      <td>00:00</td>\n",
       "    </tr>\n",
       "    <tr>\n",
       "      <td>54</td>\n",
       "      <td>0.553978</td>\n",
       "      <td>0.514973</td>\n",
       "      <td>0.966667</td>\n",
       "      <td>0.957576</td>\n",
       "      <td>00:00</td>\n",
       "    </tr>\n",
       "    <tr>\n",
       "      <td>55</td>\n",
       "      <td>0.547670</td>\n",
       "      <td>0.514324</td>\n",
       "      <td>0.766667</td>\n",
       "      <td>0.422222</td>\n",
       "      <td>00:00</td>\n",
       "    </tr>\n",
       "    <tr>\n",
       "      <td>56</td>\n",
       "      <td>0.543297</td>\n",
       "      <td>0.504541</td>\n",
       "      <td>0.950000</td>\n",
       "      <td>0.933333</td>\n",
       "      <td>00:00</td>\n",
       "    </tr>\n",
       "    <tr>\n",
       "      <td>57</td>\n",
       "      <td>0.537380</td>\n",
       "      <td>0.498622</td>\n",
       "      <td>0.933333</td>\n",
       "      <td>0.894943</td>\n",
       "      <td>00:00</td>\n",
       "    </tr>\n",
       "    <tr>\n",
       "      <td>58</td>\n",
       "      <td>0.531806</td>\n",
       "      <td>0.496593</td>\n",
       "      <td>0.966667</td>\n",
       "      <td>0.953333</td>\n",
       "      <td>00:00</td>\n",
       "    </tr>\n",
       "    <tr>\n",
       "      <td>59</td>\n",
       "      <td>0.526059</td>\n",
       "      <td>0.491874</td>\n",
       "      <td>0.950000</td>\n",
       "      <td>0.921961</td>\n",
       "      <td>00:00</td>\n",
       "    </tr>\n",
       "    <tr>\n",
       "      <td>60</td>\n",
       "      <td>0.522476</td>\n",
       "      <td>0.498559</td>\n",
       "      <td>0.933333</td>\n",
       "      <td>0.904242</td>\n",
       "      <td>00:00</td>\n",
       "    </tr>\n",
       "    <tr>\n",
       "      <td>61</td>\n",
       "      <td>0.518110</td>\n",
       "      <td>0.486683</td>\n",
       "      <td>0.883333</td>\n",
       "      <td>0.789630</td>\n",
       "      <td>00:00</td>\n",
       "    </tr>\n",
       "    <tr>\n",
       "      <td>62</td>\n",
       "      <td>0.515195</td>\n",
       "      <td>0.495900</td>\n",
       "      <td>0.916667</td>\n",
       "      <td>0.885797</td>\n",
       "      <td>00:00</td>\n",
       "    </tr>\n",
       "    <tr>\n",
       "      <td>63</td>\n",
       "      <td>0.511933</td>\n",
       "      <td>0.482102</td>\n",
       "      <td>0.966667</td>\n",
       "      <td>0.953333</td>\n",
       "      <td>00:00</td>\n",
       "    </tr>\n",
       "    <tr>\n",
       "      <td>64</td>\n",
       "      <td>0.507542</td>\n",
       "      <td>0.481215</td>\n",
       "      <td>0.900000</td>\n",
       "      <td>0.810980</td>\n",
       "      <td>00:00</td>\n",
       "    </tr>\n",
       "    <tr>\n",
       "      <td>65</td>\n",
       "      <td>0.503104</td>\n",
       "      <td>0.486444</td>\n",
       "      <td>0.916667</td>\n",
       "      <td>0.885797</td>\n",
       "      <td>00:00</td>\n",
       "    </tr>\n",
       "    <tr>\n",
       "      <td>66</td>\n",
       "      <td>0.500279</td>\n",
       "      <td>0.472806</td>\n",
       "      <td>0.950000</td>\n",
       "      <td>0.921961</td>\n",
       "      <td>00:01</td>\n",
       "    </tr>\n",
       "    <tr>\n",
       "      <td>67</td>\n",
       "      <td>0.497118</td>\n",
       "      <td>0.470857</td>\n",
       "      <td>0.916667</td>\n",
       "      <td>0.859649</td>\n",
       "      <td>00:00</td>\n",
       "    </tr>\n",
       "    <tr>\n",
       "      <td>68</td>\n",
       "      <td>0.492503</td>\n",
       "      <td>0.480565</td>\n",
       "      <td>0.916667</td>\n",
       "      <td>0.885797</td>\n",
       "      <td>00:00</td>\n",
       "    </tr>\n",
       "    <tr>\n",
       "      <td>69</td>\n",
       "      <td>0.489430</td>\n",
       "      <td>0.467322</td>\n",
       "      <td>0.950000</td>\n",
       "      <td>0.921961</td>\n",
       "      <td>00:00</td>\n",
       "    </tr>\n",
       "    <tr>\n",
       "      <td>70</td>\n",
       "      <td>0.486402</td>\n",
       "      <td>0.464865</td>\n",
       "      <td>0.950000</td>\n",
       "      <td>0.921961</td>\n",
       "      <td>00:00</td>\n",
       "    </tr>\n",
       "    <tr>\n",
       "      <td>71</td>\n",
       "      <td>0.483348</td>\n",
       "      <td>0.472348</td>\n",
       "      <td>0.950000</td>\n",
       "      <td>0.929506</td>\n",
       "      <td>00:00</td>\n",
       "    </tr>\n",
       "    <tr>\n",
       "      <td>72</td>\n",
       "      <td>0.480119</td>\n",
       "      <td>0.461745</td>\n",
       "      <td>0.900000</td>\n",
       "      <td>0.829630</td>\n",
       "      <td>00:00</td>\n",
       "    </tr>\n",
       "    <tr>\n",
       "      <td>73</td>\n",
       "      <td>0.477447</td>\n",
       "      <td>0.460403</td>\n",
       "      <td>0.883333</td>\n",
       "      <td>0.789630</td>\n",
       "      <td>00:00</td>\n",
       "    </tr>\n",
       "    <tr>\n",
       "      <td>74</td>\n",
       "      <td>0.474970</td>\n",
       "      <td>0.461637</td>\n",
       "      <td>0.950000</td>\n",
       "      <td>0.933333</td>\n",
       "      <td>00:00</td>\n",
       "    </tr>\n",
       "    <tr>\n",
       "      <td>75</td>\n",
       "      <td>0.473154</td>\n",
       "      <td>0.462693</td>\n",
       "      <td>0.950000</td>\n",
       "      <td>0.933333</td>\n",
       "      <td>00:00</td>\n",
       "    </tr>\n",
       "    <tr>\n",
       "      <td>76</td>\n",
       "      <td>0.471444</td>\n",
       "      <td>0.457413</td>\n",
       "      <td>0.883333</td>\n",
       "      <td>0.789630</td>\n",
       "      <td>00:00</td>\n",
       "    </tr>\n",
       "    <tr>\n",
       "      <td>77</td>\n",
       "      <td>0.469494</td>\n",
       "      <td>0.455216</td>\n",
       "      <td>0.950000</td>\n",
       "      <td>0.921961</td>\n",
       "      <td>00:00</td>\n",
       "    </tr>\n",
       "    <tr>\n",
       "      <td>78</td>\n",
       "      <td>0.467218</td>\n",
       "      <td>0.458992</td>\n",
       "      <td>0.950000</td>\n",
       "      <td>0.933333</td>\n",
       "      <td>00:00</td>\n",
       "    </tr>\n",
       "    <tr>\n",
       "      <td>79</td>\n",
       "      <td>0.464943</td>\n",
       "      <td>0.455469</td>\n",
       "      <td>0.950000</td>\n",
       "      <td>0.933333</td>\n",
       "      <td>00:00</td>\n",
       "    </tr>\n",
       "    <tr>\n",
       "      <td>80</td>\n",
       "      <td>0.462799</td>\n",
       "      <td>0.452473</td>\n",
       "      <td>0.883333</td>\n",
       "      <td>0.789630</td>\n",
       "      <td>00:00</td>\n",
       "    </tr>\n",
       "    <tr>\n",
       "      <td>81</td>\n",
       "      <td>0.461688</td>\n",
       "      <td>0.451187</td>\n",
       "      <td>0.950000</td>\n",
       "      <td>0.921961</td>\n",
       "      <td>00:00</td>\n",
       "    </tr>\n",
       "    <tr>\n",
       "      <td>82</td>\n",
       "      <td>0.459752</td>\n",
       "      <td>0.452734</td>\n",
       "      <td>0.966667</td>\n",
       "      <td>0.953333</td>\n",
       "      <td>00:00</td>\n",
       "    </tr>\n",
       "    <tr>\n",
       "      <td>83</td>\n",
       "      <td>0.458109</td>\n",
       "      <td>0.451599</td>\n",
       "      <td>0.966667</td>\n",
       "      <td>0.953333</td>\n",
       "      <td>00:00</td>\n",
       "    </tr>\n",
       "    <tr>\n",
       "      <td>84</td>\n",
       "      <td>0.456832</td>\n",
       "      <td>0.449808</td>\n",
       "      <td>0.950000</td>\n",
       "      <td>0.921961</td>\n",
       "      <td>00:00</td>\n",
       "    </tr>\n",
       "    <tr>\n",
       "      <td>85</td>\n",
       "      <td>0.455387</td>\n",
       "      <td>0.449237</td>\n",
       "      <td>0.950000</td>\n",
       "      <td>0.921961</td>\n",
       "      <td>00:00</td>\n",
       "    </tr>\n",
       "    <tr>\n",
       "      <td>86</td>\n",
       "      <td>0.454201</td>\n",
       "      <td>0.448420</td>\n",
       "      <td>0.950000</td>\n",
       "      <td>0.921961</td>\n",
       "      <td>00:00</td>\n",
       "    </tr>\n",
       "    <tr>\n",
       "      <td>87</td>\n",
       "      <td>0.453154</td>\n",
       "      <td>0.448022</td>\n",
       "      <td>0.950000</td>\n",
       "      <td>0.921961</td>\n",
       "      <td>00:00</td>\n",
       "    </tr>\n",
       "    <tr>\n",
       "      <td>88</td>\n",
       "      <td>0.451290</td>\n",
       "      <td>0.447589</td>\n",
       "      <td>0.950000</td>\n",
       "      <td>0.921961</td>\n",
       "      <td>00:00</td>\n",
       "    </tr>\n",
       "    <tr>\n",
       "      <td>89</td>\n",
       "      <td>0.450536</td>\n",
       "      <td>0.447535</td>\n",
       "      <td>0.950000</td>\n",
       "      <td>0.921961</td>\n",
       "      <td>00:00</td>\n",
       "    </tr>\n",
       "    <tr>\n",
       "      <td>90</td>\n",
       "      <td>0.449615</td>\n",
       "      <td>0.447282</td>\n",
       "      <td>0.950000</td>\n",
       "      <td>0.921961</td>\n",
       "      <td>00:00</td>\n",
       "    </tr>\n",
       "    <tr>\n",
       "      <td>91</td>\n",
       "      <td>0.448836</td>\n",
       "      <td>0.447304</td>\n",
       "      <td>0.950000</td>\n",
       "      <td>0.921961</td>\n",
       "      <td>00:00</td>\n",
       "    </tr>\n",
       "    <tr>\n",
       "      <td>92</td>\n",
       "      <td>0.447389</td>\n",
       "      <td>0.446933</td>\n",
       "      <td>0.950000</td>\n",
       "      <td>0.921961</td>\n",
       "      <td>00:00</td>\n",
       "    </tr>\n",
       "    <tr>\n",
       "      <td>93</td>\n",
       "      <td>0.446593</td>\n",
       "      <td>0.446828</td>\n",
       "      <td>0.950000</td>\n",
       "      <td>0.921961</td>\n",
       "      <td>00:00</td>\n",
       "    </tr>\n",
       "    <tr>\n",
       "      <td>94</td>\n",
       "      <td>0.445610</td>\n",
       "      <td>0.446690</td>\n",
       "      <td>0.950000</td>\n",
       "      <td>0.921961</td>\n",
       "      <td>00:00</td>\n",
       "    </tr>\n",
       "    <tr>\n",
       "      <td>95</td>\n",
       "      <td>0.445793</td>\n",
       "      <td>0.446642</td>\n",
       "      <td>0.950000</td>\n",
       "      <td>0.921961</td>\n",
       "      <td>00:00</td>\n",
       "    </tr>\n",
       "    <tr>\n",
       "      <td>96</td>\n",
       "      <td>0.445367</td>\n",
       "      <td>0.446674</td>\n",
       "      <td>0.950000</td>\n",
       "      <td>0.921961</td>\n",
       "      <td>00:00</td>\n",
       "    </tr>\n",
       "    <tr>\n",
       "      <td>97</td>\n",
       "      <td>0.444747</td>\n",
       "      <td>0.446675</td>\n",
       "      <td>0.950000</td>\n",
       "      <td>0.921961</td>\n",
       "      <td>00:00</td>\n",
       "    </tr>\n",
       "    <tr>\n",
       "      <td>98</td>\n",
       "      <td>0.444389</td>\n",
       "      <td>0.446681</td>\n",
       "      <td>0.950000</td>\n",
       "      <td>0.921961</td>\n",
       "      <td>00:00</td>\n",
       "    </tr>\n",
       "    <tr>\n",
       "      <td>99</td>\n",
       "      <td>0.443712</td>\n",
       "      <td>0.446679</td>\n",
       "      <td>0.950000</td>\n",
       "      <td>0.921961</td>\n",
       "      <td>00:00</td>\n",
       "    </tr>\n",
       "  </tbody>\n",
       "</table>"
      ],
      "text/plain": [
       "<IPython.core.display.HTML object>"
      ]
     },
     "metadata": {},
     "output_type": "display_data"
    },
    {
     "name": "stdout",
     "output_type": "stream",
     "text": [
      "Better model found at epoch 0 with logit_f1 value: 0.0.\n",
      "Better model found at epoch 4 with logit_f1 value: 0.4797603765511339.\n",
      "Better model found at epoch 29 with logit_f1 value: 0.5261261261261262.\n",
      "Better model found at epoch 30 with logit_f1 value: 0.7820426487093154.\n",
      "Better model found at epoch 31 with logit_f1 value: 0.8857971014492755.\n",
      "Better model found at epoch 36 with logit_f1 value: 0.9333333333333333.\n",
      "Better model found at epoch 54 with logit_f1 value: 0.9575757575757575.\n"
     ]
    }
   ],
   "source": [
    "learner = app.train(csv=csv_path, x=\"weight\", y=\"obese\", epochs=100, learning_rate=1e-2)"
   ]
  },
  {
   "cell_type": "code",
   "execution_count": 16,
   "metadata": {},
   "outputs": [
    {
     "data": {
      "image/png": "[encoded data removed]",
      "text/plain": [
       "<Figure size 432x288 with 1 Axes>"
      ]
     },
     "metadata": {
      "needs_background": "light"
     },
     "output_type": "display_data"
    }
   ],
   "source": [
    "learner.recorder.plot_loss()"
   ]
  },
  {
   "cell_type": "code",
   "execution_count": 17,
   "metadata": {},
   "outputs": [
    {
     "data": {
      "text/plain": [
       "tensor([ 48.8466,  51.8481,  54.8495,  57.8510,  60.8524,  63.8538,  66.8553,\n",
       "         69.8567,  72.8581,  75.8596,  78.8610,  81.8624,  84.8639,  87.8653,\n",
       "         90.8668,  93.8682,  96.8696,  99.8711, 102.8725, 105.8739, 108.8754,\n",
       "        111.8768, 114.8782, 117.8797, 120.8811, 123.8825, 126.8840, 129.8854,\n",
       "        132.8868, 135.8883, 138.8897, 141.8912, 144.8926, 147.8940, 150.8955,\n",
       "        153.8969, 156.8983, 159.8998, 162.9012, 165.9026, 168.9041, 171.9055,\n",
       "        174.9070, 177.9084, 180.9098, 183.9113, 186.9127, 189.9141, 192.9156,\n",
       "        195.9170, 198.9184, 201.9199, 204.9213, 207.9227, 210.9242, 213.9256,\n",
       "        216.9271, 219.9285, 222.9299, 225.9314, 228.9328, 231.9342, 234.9357,\n",
       "        237.9371, 240.9385, 243.9400, 246.9414, 249.9428, 252.9443, 255.9457,\n",
       "        258.9471, 261.9486, 264.9500, 267.9515, 270.9529, 273.9543, 276.9558,\n",
       "        279.9572, 282.9586, 285.9601, 288.9615, 291.9630, 294.9644, 297.9658,\n",
       "        300.9673, 303.9687, 306.9701, 309.9716, 312.9730, 315.9745, 318.9759,\n",
       "        321.9773, 324.9788, 327.9802, 330.9816, 333.9831, 336.9845, 339.9859,\n",
       "        342.9874, 345.9888])"
      ]
     },
     "execution_count": 17,
     "metadata": {},
     "output_type": "execute_result"
    }
   ],
   "source": [
    "x = torch.linspace(df[\"weight\"].min(), df[\"weight\"].max(), 100)\n",
    "x"
   ]
  },
  {
   "cell_type": "code",
   "execution_count": 18,
   "metadata": {},
   "outputs": [],
   "source": [
    "logits = learner.model(x.unsqueeze(dim=-1))"
   ]
  },
  {
   "cell_type": "code",
   "execution_count": 19,
   "metadata": {},
   "outputs": [],
   "source": [
    "from torch import nn"
   ]
  },
  {
   "cell_type": "code",
   "execution_count": 20,
   "metadata": {},
   "outputs": [],
   "source": [
    "y = nn.Sigmoid()(logits)"
   ]
  },
  {
   "cell_type": "code",
   "execution_count": 21,
   "metadata": {},
   "outputs": [
    {
     "data": {
      "text/plain": [
       "tensor([0.3065, 0.3123, 0.3182, 0.3241, 0.3301, 0.3362, 0.3423, 0.3485, 0.3547,\n",
       "        0.3609, 0.3672, 0.3736, 0.3800, 0.3864, 0.3929, 0.3995, 0.4060, 0.4126,\n",
       "        0.4192, 0.4259, 0.4326, 0.4393, 0.4460, 0.4527, 0.4595, 0.4663, 0.4731,\n",
       "        0.4799, 0.4867, 0.4935, 0.5003, 0.5071, 0.5139, 0.5207, 0.5275, 0.5343,\n",
       "        0.5411, 0.5479, 0.5546, 0.5613, 0.5680, 0.5747, 0.5814, 0.5880, 0.5946,\n",
       "        0.6011, 0.6076, 0.6141, 0.6206, 0.6270, 0.6333, 0.6396, 0.6459, 0.6521,\n",
       "        0.6582, 0.6643, 0.6704, 0.6764, 0.6823, 0.6882, 0.6940, 0.6998, 0.7055,\n",
       "        0.7111, 0.7167, 0.7222, 0.7276, 0.7330, 0.7383, 0.7435, 0.7487, 0.7538,\n",
       "        0.7588, 0.7638, 0.7687, 0.7735, 0.7782, 0.7829, 0.7875, 0.7920, 0.7965,\n",
       "        0.8008, 0.8052, 0.8094, 0.8136, 0.8177, 0.8217, 0.8257, 0.8295, 0.8334,\n",
       "        0.8371, 0.8408, 0.8444, 0.8480, 0.8514, 0.8549, 0.8582, 0.8615, 0.8647,\n",
       "        0.8679], grad_fn=<SqueezeBackward0>)"
      ]
     },
     "execution_count": 21,
     "metadata": {},
     "output_type": "execute_result"
    }
   ],
   "source": [
    "y.squeeze()"
   ]
  },
  {
   "cell_type": "code",
   "execution_count": 28,
   "metadata": {},
   "outputs": [
    {
     "data": {
      "application/vnd.plotly.v1+json": {
       "config": {
        "plotlyServerURL": "https://plot.ly"
       },
       "data": [
        {
         "mode": "markers",
         "type": "scatter",
         "x": [
          273.2265625,
          183.93882751464844,
          152.38531494140625,
          140.9347381591797,
          166.46302795410156,
          179.31634521484375,
          161.0694122314453,
          249.6243896484375,
          172.60598754882812,
          213.6815948486328,
          213.55409240722656,
          268.58770751953125,
          205.298828125,
          258.2048034667969,
          195.74217224121094,
          166.49386596679688,
          205.30455017089844,
          221.73236083984375,
          154.44544982910156,
          175.2848358154297,
          194.87954711914062,
          209.72251892089844,
          152.23342895507812,
          185.07920837402344,
          302.7546691894531,
          195.0999755859375,
          249.55401611328125,
          345.9888000488281,
          137.17254638671875,
          168.78619384765625,
          184.30039978027344,
          190.8080596923828,
          177.03050231933594,
          182.13967895507812,
          265.22442626953125,
          253.3074188232422,
          143.16766357421875,
          238.688232421875,
          206.76669311523438,
          222.17428588867188,
          202.57089233398438,
          245.4453582763672,
          156.48435974121094,
          229.92422485351562,
          169.38082885742188,
          189.6953887939453,
          207.7763671875,
          190.9069061279297,
          209.063720703125,
          222.94297790527344,
          262.496826171875,
          322.4184875488281,
          105.25997924804688,
          238.1065216064453,
          219.62603759765625,
          174.3596954345703,
          172.89300537109375,
          191.40554809570312,
          152.24685668945312,
          196.8621826171875,
          168.0648651123047,
          266.876220703125,
          298.7705993652344,
          230.26963806152344,
          214.7351837158203,
          200.66156005859375,
          121.58211517333984,
          225.8560333251953,
          211.8444366455078,
          278.97125244140625,
          254.18763732910156,
          256.1336975097656,
          249.9869384765625,
          227.30409240722656,
          203.15826416015625,
          140.19442749023438,
          211.56527709960938,
          139.3211212158203,
          158.3321533203125,
          233.07411193847656,
          155.8807830810547,
          282.00146484375,
          245.8300323486328,
          151.02377319335938,
          252.904296875,
          203.4828338623047,
          122.623779296875,
          145.19093322753906,
          183.77259826660156,
          273.5133361816406,
          176.27523803710938,
          281.8180847167969,
          191.00570678710938,
          244.75328063964844,
          175.51783752441406,
          295.4339599609375,
          189.0066680908203,
          212.7355499267578,
          193.63656616210938,
          112.55931854248047,
          88.60037994384766,
          94.54379272460938,
          67.70846557617188,
          89.29423522949219,
          118.23860931396484,
          87.57118225097656,
          117.50325012207031,
          96.54269409179688,
          83.35807037353516,
          111.09180450439453,
          106.62554931640625,
          110.66148376464844,
          106.53382110595703,
          117.06414794921875,
          107.17178344726562,
          141.93215942382812,
          93.9619369506836,
          129.0203857421875,
          91.52738189697266,
          121.31871795654297,
          114.64826202392578,
          132.7126007080078,
          106.65061950683594,
          107.04940795898438,
          82.76145935058594,
          77.80506896972656,
          85.82730102539062,
          110.14385223388672,
          100.37371826171875,
          96.67027282714844,
          102.98731994628906,
          122.03038024902344,
          186.02687072753906,
          93.6104736328125,
          129.56149291992188,
          94.8564224243164,
          81.69754791259766,
          92.75594329833984,
          138.04766845703125,
          85.36040496826172,
          125.34281921386719,
          119.05582427978516,
          113.7996826171875,
          115.81216430664062,
          81.94699096679688,
          74.15618133544922,
          85.76069641113281,
          64.9329833984375,
          72.48100280761719,
          125.49214935302734,
          86.98558044433594,
          86.89491271972656,
          131.63153076171875,
          104.17340850830078,
          122.48326110839844,
          100.79376220703125,
          116.29509735107422,
          79.49443817138672,
          95.95601654052734,
          126.29933166503906,
          86.7300796508789,
          85.77886199951172,
          104.15699005126953,
          86.30687713623047,
          92.60921478271484,
          90.84584045410156,
          78.27213287353516,
          109.78437042236328,
          90.12506103515625,
          128.49197387695312,
          72.35831451416016,
          97.16016387939453,
          131.61167907714844,
          94.94795989990234,
          117.14801025390625,
          58.77150344848633,
          74.5702133178711,
          104.4001693725586,
          57.72114562988281,
          93.33454132080078,
          99.11473083496094,
          120.75176239013672,
          85.19805145263672,
          106.00150299072266,
          85.43067169189453,
          99.7961196899414,
          124.20524597167969,
          78.20037078857422,
          121.31436157226562,
          99.65003967285156,
          82.69707489013672,
          84.29122924804688,
          116.78286743164062,
          90.50308990478516,
          186.0579071044922,
          91.45436096191406,
          107.72130584716797,
          62.938724517822266,
          106.26778411865234,
          74.26087188720703,
          100.99625396728516,
          84.89665985107422,
          95.68814849853516,
          87.62432861328125,
          69.56327056884766,
          116.00335693359375,
          54.94804763793945,
          132.0372314453125,
          74.44740295410156,
          118.25125885009766,
          95.69995880126953,
          114.85154724121094,
          103.42036437988281,
          110.1539535522461,
          130.47389221191406,
          111.29554748535156,
          132.57608032226562,
          86.06267547607422,
          151.6079559326172,
          98.51695251464844,
          90.86536407470703,
          104.2169189453125,
          68.72403717041016,
          117.71847534179688,
          80.38026428222656,
          104.13834381103516,
          117.42881774902344,
          60.862159729003906,
          82.94640350341797,
          78.72095489501953,
          117.6146011352539,
          92.64812469482422,
          163.27157592773438,
          108.773193359375,
          75.05049133300781,
          63.76519775390625,
          85.3366928100586,
          105.17977905273438,
          95.5430908203125,
          77.93782806396484,
          119.78988647460938,
          125.1124496459961,
          110.63233184814453,
          87.7175521850586,
          102.71773529052734,
          99.54927062988281,
          48.846649169921875,
          73.3939208984375,
          98.24844360351562,
          67.43311309814453,
          69.38970184326172,
          55.67686080932617,
          135.145263671875,
          103.27657318115234,
          69.15414428710938,
          106.98649597167969,
          92.0265121459961,
          68.4990463256836,
          83.1493148803711,
          66.353271484375,
          52.39188003540039,
          116.4674301147461,
          108.7767562866211,
          112.2357177734375,
          93.77938842773438,
          120.63720703125,
          85.87071990966797,
          124.3162612915039,
          155.55130004882812,
          93.26813507080078,
          76.2863540649414,
          92.89901733398438,
          98.97198486328125,
          72.793212890625,
          155.12709045410156,
          129.89776611328125,
          88.00975036621094,
          147.7099609375,
          81.6058349609375,
          104.03710174560547,
          86.59419250488281,
          114.74758911132812,
          54.64630126953125,
          74.93346405029297,
          93.5177001953125,
          93.2225112915039,
          156.18528747558594,
          77.93392181396484,
          90.30831146240234,
          88.95561981201172,
          136.0335693359375,
          154.08145141601562,
          79.1733169555664,
          126.6786117553711,
          103.59587860107422,
          101.598388671875,
          82.6110610961914,
          104.01363372802734,
          102.23286437988281,
          58.893035888671875
         ],
         "y": [
          0.9965783984333448,
          0.9992221969144524,
          1.0106178482235624,
          0.9749897788098175,
          0.9925652871217536,
          1.0417331800837115,
          1.0122771227007403,
          1.0074346938857353,
          1.0073467140778216,
          0.9754796021094335,
          1.0305173586622154,
          1.027750942485264,
          1.008076234959813,
          1.0137648504641323,
          0.9951693227857181,
          1.0004441694912176,
          0.9980474583627897,
          0.981655647820507,
          0.996959439419974,
          0.9538770477261307,
          0.9880098082243737,
          1.001313348483,
          0.9776482958046424,
          0.9840656555095219,
          0.9873364543662847,
          1.0262420370156888,
          1.0177308154393092,
          1.0190204624880883,
          0.976392411538462,
          0.9916909750431476,
          1.018787493512557,
          1.0118724173504334,
          1.0170594180481947,
          1.017191911420094,
          0.9969564590940788,
          0.9670125831539688,
          0.9803490152767914,
          1.0078883334898638,
          0.9871750776042573,
          1.0483685898887056,
          1.0044100340364874,
          0.9918275864722647,
          0.9823999121332154,
          0.9719474399959187,
          1.0096575103801078,
          0.9898219415438391,
          1.0060007330000722,
          0.9974981340084921,
          1.0050429710776,
          1.0013139101565398,
          0.9879402104829748,
          0.9856781268405888,
          0.9717503151241125,
          0.9910103675101936,
          0.9914321287477529,
          1.0041129137683085,
          1.0264694306521664,
          0.9991205111625733,
          0.9897605696420314,
          0.9741222618330264,
          0.9793660339233617,
          1.021634398224843,
          0.9672347219723149,
          0.9901829836614674,
          1.004283118066487,
          1.001227627933606,
          1.0073823167681593,
          1.0025375094366784,
          0.9969162895339464,
          0.9775072989739647,
          1.0178413273706257,
          1.0008424445482549,
          0.9871479372714417,
          0.9654458810695894,
          0.9741326023158046,
          0.9988898186196689,
          1.0135164360534012,
          1.0457685514016328,
          0.9816407711354918,
          0.9808238976847993,
          1.0170100536218025,
          1.001710089509485,
          1.0348691398031373,
          1.0307002363086575,
          1.009455891297017,
          0.9910859906060191,
          0.9674024946900827,
          0.9749182061603965,
          1.010378924601021,
          1.0236988712629194,
          0.999348465160224,
          0.9492456899648882,
          1.0105140559693762,
          0.9882973215732566,
          0.991241137376892,
          1.0148850380239716,
          1.0575157180565606,
          0.9882854209554638,
          0.9887632396334297,
          0.9939516306050491,
          -0.004455194189406792,
          0.0414745538328558,
          -0.0153188740792121,
          0.004578702278592454,
          -0.025986640202724374,
          -0.014032253473563145,
          -0.03408207541465181,
          -0.012328966585021502,
          0.014524063254022397,
          -0.001701480220917362,
          -0.009159336225328952,
          -0.04029695094298877,
          -0.014774123365425178,
          -0.00873566151424042,
          -0.0014635569803985767,
          0.014067116537740761,
          -0.0248532148164941,
          0.00020507543310998119,
          -0.00784485310573936,
          -0.03958376905730274,
          -0.006412590653613216,
          0.00896864092939082,
          -0.02541625263092442,
          -0.005875896682080751,
          -0.001063857931376525,
          -0.0005263167818975342,
          -0.0005518707544457491,
          -0.02486303053739122,
          -0.0030768707384920134,
          0.04508249069163707,
          -0.005969152592569653,
          -0.006798277860036423,
          0.01749203831022703,
          0.004168976436863275,
          -0.024823809832348186,
          0.021741976957991495,
          -0.022830193494988694,
          -0.010656228991429924,
          -0.0001738232950612562,
          0.0008252656365862611,
          -0.020867517441908148,
          -0.016936084974923417,
          0.00350317086759409,
          -0.02018840764916292,
          -0.018855444880768974,
          -0.027515027093056373,
          0.03401415871099433,
          -0.01232005663451018,
          0.009197237084681214,
          -0.002276885185556632,
          -0.0007402109612644069,
          -0.007822483495551874,
          -0.011931154466101348,
          0.015658109078004627,
          0.02060473901866053,
          0.00037409335779170787,
          -0.03965870120624979,
          -0.014036217470477601,
          -0.05347040828613728,
          0.003989749915149367,
          0.025470741262114537,
          0.027444577249061287,
          0.007263216537948911,
          0.030257683842830035,
          0.012470436201787458,
          0.023284762815297008,
          0.04325388029152061,
          0.0013414581172992621,
          0.013237898835729579,
          0.014490986048736554,
          0.005003265312768694,
          0.004369434445107771,
          -0.0004248876123261984,
          0.013112274635290305,
          -0.0005067632686083374,
          0.009257534686811671,
          -0.030895567207069412,
          -0.0014484291968618285,
          0.005359307087602378,
          -0.013648092997975744,
          0.0007082717509310112,
          0.0106287767438802,
          0.004404805567545501,
          0.00013426667208742916,
          0.012317438779570162,
          -0.03897181743500821,
          -0.003291899062431349,
          -0.003702906443902721,
          -0.005641462990140023,
          -0.004004787582838702,
          0.031073448470703233,
          0.03183810530944423,
          0.02589970024113769,
          0.01031485220958392,
          0.010132022459191868,
          0.025947070940350266,
          0.006621000225660326,
          0.02315568189939608,
          -0.012072730804841668,
          -0.015324459203986342,
          -0.018328893941039443,
          -0.005890017949614784,
          0.0356189536414666,
          0.03182522926834028,
          0.02125462898507055,
          0.030723455566624126,
          -0.01772293011362475,
          -0.018774773599716518,
          -0.008894176978636781,
          0.04132848441969939,
          -0.011966433300459324,
          -0.0013573953677315162,
          0.001377858654494204,
          0.020614822363191194,
          0.014032631891203812,
          0.0024813026935507376,
          -0.009490669284570326,
          -0.020828213237743847,
          -0.03424471283917845,
          -0.024685201266500312,
          0.01424294480856072,
          -0.0337827442394071,
          0.011515140636020813,
          0.013951533484459676,
          -0.007650377275635574,
          0.01679811523850171,
          -0.0020820363956339403,
          -0.007780853949279221,
          -0.007869430005918516,
          0.03503042594903168,
          0.005575480601246067,
          0.02753800549157059,
          0.006020149108403296,
          -0.02260778870856758,
          0.015857227896183185,
          0.02769951872445554,
          0.0054953633025526735,
          -0.03630174378439329,
          0.02113691216710267,
          -0.004300663331598004,
          0.009812915740448286,
          -0.002075654997724028,
          0.011436104975887323,
          -0.021374936309941948,
          -0.014986783022178918,
          -0.0019041145164589394,
          -0.008105480873196961,
          0.009445720591238063,
          -0.008367080752486537,
          -0.010881425032502078,
          -0.024636479380179224,
          -0.013898067767734681,
          -0.015282351472434298,
          0.005957474945800805,
          0.007129773759809098,
          0.0010081585628163813,
          0.01363499371477707,
          0.009585963845367978,
          -0.02208095323137928,
          -0.030801149949374888,
          0.001183582935245946,
          0.016242628852587357,
          -0.009611459663065964,
          -0.010174744789808218,
          -0.01550901687507311,
          -0.0330631176495883,
          0.04353843415540836,
          0.0021760495712747226,
          -0.009238914157788174,
          -0.03872426241842462,
          -0.009005790718727827,
          -0.006967067236519979,
          -0.02041782422119568,
          -0.009090768626166649,
          0.004351891269958371,
          0.0009742801182993152,
          0.007852740838765556,
          0.0049875012684851725,
          0.013519881545563883,
          -0.021844806099076554,
          0.01783247405472959,
          -0.014925644020022763,
          0.011678528991494795,
          -0.009712276890658771,
          0.0063509081187085575,
          -0.009124474104869933,
          0.014915109898327325,
          -0.011166815331555977,
          -0.008442919235836194,
          -0.017669178059558692,
          0.006795901558120518,
          -0.011672041705268997,
          0.013202470329256208,
          -0.033058833912407166,
          0.020748449339437633,
          -0.017373523920653684,
          -0.008002628065217345,
          -0.03750424392847296,
          0.010950532590773334,
          -0.0018048207355800818
         ]
        },
        {
         "type": "scatter",
         "x": [
          48.846649169921875,
          51.84808349609375,
          54.84952163696289,
          57.850955963134766,
          60.852394104003906,
          63.85382843017578,
          66.85526275634766,
          69.85669708251953,
          72.85813903808594,
          75.85957336425781,
          78.86100769042969,
          81.86244201660156,
          84.86388397216797,
          87.86531829833984,
          90.86675262451172,
          93.8681869506836,
          96.86962127685547,
          99.87105560302734,
          102.87248992919922,
          105.87393188476562,
          108.8753662109375,
          111.87680053710938,
          114.87823486328125,
          117.87966918945312,
          120.881103515625,
          123.88253784179688,
          126.88397216796875,
          129.88540649414062,
          132.8868408203125,
          135.88827514648438,
          138.88970947265625,
          141.8911590576172,
          144.89259338378906,
          147.89402770996094,
          150.8954620361328,
          153.8968963623047,
          156.89833068847656,
          159.8997802734375,
          162.90121459960938,
          165.90264892578125,
          168.90408325195312,
          171.905517578125,
          174.90695190429688,
          177.90838623046875,
          180.90982055664062,
          183.9112548828125,
          186.91268920898438,
          189.9141387939453,
          192.91555786132812,
          195.9169921875,
          198.91842651367188,
          201.91986083984375,
          204.92129516601562,
          207.9227294921875,
          210.92416381835938,
          213.9256134033203,
          216.92706298828125,
          219.92849731445312,
          222.929931640625,
          225.93136596679688,
          228.93280029296875,
          231.93423461914062,
          234.9356689453125,
          237.93711853027344,
          240.93853759765625,
          243.93997192382812,
          246.94140625,
          249.94284057617188,
          252.94427490234375,
          255.94570922851562,
          258.9471435546875,
          261.9485778808594,
          264.9500427246094,
          267.95147705078125,
          270.9529113769531,
          273.954345703125,
          276.9557800292969,
          279.95721435546875,
          282.9586486816406,
          285.9600830078125,
          288.9615173339844,
          291.96295166015625,
          294.9643859863281,
          297.9658203125,
          300.9672546386719,
          303.96868896484375,
          306.9701232910156,
          309.9715576171875,
          312.9730224609375,
          315.9744567871094,
          318.97589111328125,
          321.9773254394531,
          324.978759765625,
          327.9801940917969,
          330.98162841796875,
          333.9830627441406,
          336.9844970703125,
          339.9859313964844,
          342.98736572265625,
          345.9888000488281
         ],
         "y": [
          0.3064671754837036,
          0.3122919499874115,
          0.3181767165660858,
          0.32412004470825195,
          0.33012068271636963,
          0.33617714047431946,
          0.34228789806365967,
          0.3484514653682709,
          0.35466620326042175,
          0.36093035340309143,
          0.36724212765693665,
          0.3735998272895813,
          0.3800014555454254,
          0.38644513487815857,
          0.3929287791252136,
          0.399450421333313,
          0.40600788593292236,
          0.4125990867614746,
          0.4192216992378235,
          0.42587360739707947,
          0.43255242705345154,
          0.43925586342811584,
          0.44598156213760376,
          0.4527270197868347,
          0.4594899117946625,
          0.466267853975296,
          0.47305816411972046,
          0.47985848784446716,
          0.4866662621498108,
          0.4934789836406708,
          0.5002941489219666,
          0.5071092844009399,
          0.5139216780662537,
          0.5207289457321167,
          0.5275284647941589,
          0.5343179106712341,
          0.5410945415496826,
          0.5478560924530029,
          0.554599940776825,
          0.5613238215446472,
          0.5680251717567444,
          0.5747017860412598,
          0.5813512206077576,
          0.5879712104797363,
          0.5945596098899841,
          0.60111403465271,
          0.6076325178146362,
          0.6141128540039062,
          0.6205528974533081,
          0.6269508004188538,
          0.6333045959472656,
          0.6396123170852661,
          0.6458723545074463,
          0.6520826816558838,
          0.6582417488098145,
          0.6643478870391846,
          0.6703996062278748,
          0.6763953566551208,
          0.6823337078094482,
          0.6882132887840271,
          0.6940328478813171,
          0.6997911930084229,
          0.7054871916770935,
          0.7111196517944336,
          0.7166876792907715,
          0.7221903800964355,
          0.7276266813278198,
          0.7329960465431213,
          0.7382975816726685,
          0.7435306906700134,
          0.7486947178840637,
          0.7537893652915955,
          0.7588139176368713,
          0.7637680172920227,
          0.7686514258384705,
          0.7734638452529907,
          0.7782050371170044,
          0.7828747630119324,
          0.7874730825424194,
          0.7919999361038208,
          0.7964552044868469,
          0.8008391261100769,
          0.8051517009735107,
          0.809393048286438,
          0.8135635256767273,
          0.8176633715629578,
          0.821692705154419,
          0.825652003288269,
          0.8295416235923767,
          0.8333620429039001,
          0.8371135592460632,
          0.8407968282699585,
          0.8444123268127441,
          0.8479604125022888,
          0.8514418601989746,
          0.854857325553894,
          0.8582072854042053,
          0.8614924550056458,
          0.8647135496139526,
          0.8678712248802185
         ]
        }
       ],
       "layout": {
        "template": {
         "data": {
          "bar": [
           {
            "error_x": {
             "color": "#2a3f5f"
            },
            "error_y": {
             "color": "#2a3f5f"
            },
            "marker": {
             "line": {
              "color": "#E5ECF6",
              "width": 0.5
             },
             "pattern": {
              "fillmode": "overlay",
              "size": 10,
              "solidity": 0.2
             }
            },
            "type": "bar"
           }
          ],
          "barpolar": [
           {
            "marker": {
             "line": {
              "color": "#E5ECF6",
              "width": 0.5
             },
             "pattern": {
              "fillmode": "overlay",
              "size": 10,
              "solidity": 0.2
             }
            },
            "type": "barpolar"
           }
          ],
          "carpet": [
           {
            "aaxis": {
             "endlinecolor": "#2a3f5f",
             "gridcolor": "white",
             "linecolor": "white",
             "minorgridcolor": "white",
             "startlinecolor": "#2a3f5f"
            },
            "baxis": {
             "endlinecolor": "#2a3f5f",
             "gridcolor": "white",
             "linecolor": "white",
             "minorgridcolor": "white",
             "startlinecolor": "#2a3f5f"
            },
            "type": "carpet"
           }
          ],
          "choropleth": [
           {
            "colorbar": {
             "outlinewidth": 0,
             "ticks": ""
            },
            "type": "choropleth"
           }
          ],
          "contour": [
           {
            "colorbar": {
             "outlinewidth": 0,
             "ticks": ""
            },
            "colorscale": [
             [
              0,
              "#0d0887"
             ],
             [
              0.1111111111111111,
              "#46039f"
             ],
             [
              0.2222222222222222,
              "#7201a8"
             ],
             [
              0.3333333333333333,
              "#9c179e"
             ],
             [
              0.4444444444444444,
              "#bd3786"
             ],
             [
              0.5555555555555556,
              "#d8576b"
             ],
             [
              0.6666666666666666,
              "#ed7953"
             ],
             [
              0.7777777777777778,
              "#fb9f3a"
             ],
             [
              0.8888888888888888,
              "#fdca26"
             ],
             [
              1,
              "#f0f921"
             ]
            ],
            "type": "contour"
           }
          ],
          "contourcarpet": [
           {
            "colorbar": {
             "outlinewidth": 0,
             "ticks": ""
            },
            "type": "contourcarpet"
           }
          ],
          "heatmap": [
           {
            "colorbar": {
             "outlinewidth": 0,
             "ticks": ""
            },
            "colorscale": [
             [
              0,
              "#0d0887"
             ],
             [
              0.1111111111111111,
              "#46039f"
             ],
             [
              0.2222222222222222,
              "#7201a8"
             ],
             [
              0.3333333333333333,
              "#9c179e"
             ],
             [
              0.4444444444444444,
              "#bd3786"
             ],
             [
              0.5555555555555556,
              "#d8576b"
             ],
             [
              0.6666666666666666,
              "#ed7953"
             ],
             [
              0.7777777777777778,
              "#fb9f3a"
             ],
             [
              0.8888888888888888,
              "#fdca26"
             ],
             [
              1,
              "#f0f921"
             ]
            ],
            "type": "heatmap"
           }
          ],
          "heatmapgl": [
           {
            "colorbar": {
             "outlinewidth": 0,
             "ticks": ""
            },
            "colorscale": [
             [
              0,
              "#0d0887"
             ],
             [
              0.1111111111111111,
              "#46039f"
             ],
             [
              0.2222222222222222,
              "#7201a8"
             ],
             [
              0.3333333333333333,
              "#9c179e"
             ],
             [
              0.4444444444444444,
              "#bd3786"
             ],
             [
              0.5555555555555556,
              "#d8576b"
             ],
             [
              0.6666666666666666,
              "#ed7953"
             ],
             [
              0.7777777777777778,
              "#fb9f3a"
             ],
             [
              0.8888888888888888,
              "#fdca26"
             ],
             [
              1,
              "#f0f921"
             ]
            ],
            "type": "heatmapgl"
           }
          ],
          "histogram": [
           {
            "marker": {
             "pattern": {
              "fillmode": "overlay",
              "size": 10,
              "solidity": 0.2
             }
            },
            "type": "histogram"
           }
          ],
          "histogram2d": [
           {
            "colorbar": {
             "outlinewidth": 0,
             "ticks": ""
            },
            "colorscale": [
             [
              0,
              "#0d0887"
             ],
             [
              0.1111111111111111,
              "#46039f"
             ],
             [
              0.2222222222222222,
              "#7201a8"
             ],
             [
              0.3333333333333333,
              "#9c179e"
             ],
             [
              0.4444444444444444,
              "#bd3786"
             ],
             [
              0.5555555555555556,
              "#d8576b"
             ],
             [
              0.6666666666666666,
              "#ed7953"
             ],
             [
              0.7777777777777778,
              "#fb9f3a"
             ],
             [
              0.8888888888888888,
              "#fdca26"
             ],
             [
              1,
              "#f0f921"
             ]
            ],
            "type": "histogram2d"
           }
          ],
          "histogram2dcontour": [
           {
            "colorbar": {
             "outlinewidth": 0,
             "ticks": ""
            },
            "colorscale": [
             [
              0,
              "#0d0887"
             ],
             [
              0.1111111111111111,
              "#46039f"
             ],
             [
              0.2222222222222222,
              "#7201a8"
             ],
             [
              0.3333333333333333,
              "#9c179e"
             ],
             [
              0.4444444444444444,
              "#bd3786"
             ],
             [
              0.5555555555555556,
              "#d8576b"
             ],
             [
              0.6666666666666666,
              "#ed7953"
             ],
             [
              0.7777777777777778,
              "#fb9f3a"
             ],
             [
              0.8888888888888888,
              "#fdca26"
             ],
             [
              1,
              "#f0f921"
             ]
            ],
            "type": "histogram2dcontour"
           }
          ],
          "mesh3d": [
           {
            "colorbar": {
             "outlinewidth": 0,
             "ticks": ""
            },
            "type": "mesh3d"
           }
          ],
          "parcoords": [
           {
            "line": {
             "colorbar": {
              "outlinewidth": 0,
              "ticks": ""
             }
            },
            "type": "parcoords"
           }
          ],
          "pie": [
           {
            "automargin": true,
            "type": "pie"
           }
          ],
          "scatter": [
           {
            "fillpattern": {
             "fillmode": "overlay",
             "size": 10,
             "solidity": 0.2
            },
            "type": "scatter"
           }
          ],
          "scatter3d": [
           {
            "line": {
             "colorbar": {
              "outlinewidth": 0,
              "ticks": ""
             }
            },
            "marker": {
             "colorbar": {
              "outlinewidth": 0,
              "ticks": ""
             }
            },
            "type": "scatter3d"
           }
          ],
          "scattercarpet": [
           {
            "marker": {
             "colorbar": {
              "outlinewidth": 0,
              "ticks": ""
             }
            },
            "type": "scattercarpet"
           }
          ],
          "scattergeo": [
           {
            "marker": {
             "colorbar": {
              "outlinewidth": 0,
              "ticks": ""
             }
            },
            "type": "scattergeo"
           }
          ],
          "scattergl": [
           {
            "marker": {
             "colorbar": {
              "outlinewidth": 0,
              "ticks": ""
             }
            },
            "type": "scattergl"
           }
          ],
          "scattermapbox": [
           {
            "marker": {
             "colorbar": {
              "outlinewidth": 0,
              "ticks": ""
             }
            },
            "type": "scattermapbox"
           }
          ],
          "scatterpolar": [
           {
            "marker": {
             "colorbar": {
              "outlinewidth": 0,
              "ticks": ""
             }
            },
            "type": "scatterpolar"
           }
          ],
          "scatterpolargl": [
           {
            "marker": {
             "colorbar": {
              "outlinewidth": 0,
              "ticks": ""
             }
            },
            "type": "scatterpolargl"
           }
          ],
          "scatterternary": [
           {
            "marker": {
             "colorbar": {
              "outlinewidth": 0,
              "ticks": ""
             }
            },
            "type": "scatterternary"
           }
          ],
          "surface": [
           {
            "colorbar": {
             "outlinewidth": 0,
             "ticks": ""
            },
            "colorscale": [
             [
              0,
              "#0d0887"
             ],
             [
              0.1111111111111111,
              "#46039f"
             ],
             [
              0.2222222222222222,
              "#7201a8"
             ],
             [
              0.3333333333333333,
              "#9c179e"
             ],
             [
              0.4444444444444444,
              "#bd3786"
             ],
             [
              0.5555555555555556,
              "#d8576b"
             ],
             [
              0.6666666666666666,
              "#ed7953"
             ],
             [
              0.7777777777777778,
              "#fb9f3a"
             ],
             [
              0.8888888888888888,
              "#fdca26"
             ],
             [
              1,
              "#f0f921"
             ]
            ],
            "type": "surface"
           }
          ],
          "table": [
           {
            "cells": {
             "fill": {
              "color": "#EBF0F8"
             },
             "line": {
              "color": "white"
             }
            },
            "header": {
             "fill": {
              "color": "#C8D4E3"
             },
             "line": {
              "color": "white"
             }
            },
            "type": "table"
           }
          ]
         },
         "layout": {
          "annotationdefaults": {
           "arrowcolor": "#2a3f5f",
           "arrowhead": 0,
           "arrowwidth": 1
          },
          "autotypenumbers": "strict",
          "coloraxis": {
           "colorbar": {
            "outlinewidth": 0,
            "ticks": ""
           }
          },
          "colorscale": {
           "diverging": [
            [
             0,
             "#8e0152"
            ],
            [
             0.1,
             "#c51b7d"
            ],
            [
             0.2,
             "#de77ae"
            ],
            [
             0.3,
             "#f1b6da"
            ],
            [
             0.4,
             "#fde0ef"
            ],
            [
             0.5,
             "#f7f7f7"
            ],
            [
             0.6,
             "#e6f5d0"
            ],
            [
             0.7,
             "#b8e186"
            ],
            [
             0.8,
             "#7fbc41"
            ],
            [
             0.9,
             "#4d9221"
            ],
            [
             1,
             "#276419"
            ]
           ],
           "sequential": [
            [
             0,
             "#0d0887"
            ],
            [
             0.1111111111111111,
             "#46039f"
            ],
            [
             0.2222222222222222,
             "#7201a8"
            ],
            [
             0.3333333333333333,
             "#9c179e"
            ],
            [
             0.4444444444444444,
             "#bd3786"
            ],
            [
             0.5555555555555556,
             "#d8576b"
            ],
            [
             0.6666666666666666,
             "#ed7953"
            ],
            [
             0.7777777777777778,
             "#fb9f3a"
            ],
            [
             0.8888888888888888,
             "#fdca26"
            ],
            [
             1,
             "#f0f921"
            ]
           ],
           "sequentialminus": [
            [
             0,
             "#0d0887"
            ],
            [
             0.1111111111111111,
             "#46039f"
            ],
            [
             0.2222222222222222,
             "#7201a8"
            ],
            [
             0.3333333333333333,
             "#9c179e"
            ],
            [
             0.4444444444444444,
             "#bd3786"
            ],
            [
             0.5555555555555556,
             "#d8576b"
            ],
            [
             0.6666666666666666,
             "#ed7953"
            ],
            [
             0.7777777777777778,
             "#fb9f3a"
            ],
            [
             0.8888888888888888,
             "#fdca26"
            ],
            [
             1,
             "#f0f921"
            ]
           ]
          },
          "colorway": [
           "#636efa",
           "#EF553B",
           "#00cc96",
           "#ab63fa",
           "#FFA15A",
           "#19d3f3",
           "#FF6692",
           "#B6E880",
           "#FF97FF",
           "#FECB52"
          ],
          "font": {
           "color": "#2a3f5f"
          },
          "geo": {
           "bgcolor": "white",
           "lakecolor": "white",
           "landcolor": "#E5ECF6",
           "showlakes": true,
           "showland": true,
           "subunitcolor": "white"
          },
          "hoverlabel": {
           "align": "left"
          },
          "hovermode": "closest",
          "mapbox": {
           "style": "light"
          },
          "paper_bgcolor": "white",
          "plot_bgcolor": "#E5ECF6",
          "polar": {
           "angularaxis": {
            "gridcolor": "white",
            "linecolor": "white",
            "ticks": ""
           },
           "bgcolor": "#E5ECF6",
           "radialaxis": {
            "gridcolor": "white",
            "linecolor": "white",
            "ticks": ""
           }
          },
          "scene": {
           "xaxis": {
            "backgroundcolor": "#E5ECF6",
            "gridcolor": "white",
            "gridwidth": 2,
            "linecolor": "white",
            "showbackground": true,
            "ticks": "",
            "zerolinecolor": "white"
           },
           "yaxis": {
            "backgroundcolor": "#E5ECF6",
            "gridcolor": "white",
            "gridwidth": 2,
            "linecolor": "white",
            "showbackground": true,
            "ticks": "",
            "zerolinecolor": "white"
           },
           "zaxis": {
            "backgroundcolor": "#E5ECF6",
            "gridcolor": "white",
            "gridwidth": 2,
            "linecolor": "white",
            "showbackground": true,
            "ticks": "",
            "zerolinecolor": "white"
           }
          },
          "shapedefaults": {
           "line": {
            "color": "#2a3f5f"
           }
          },
          "ternary": {
           "aaxis": {
            "gridcolor": "white",
            "linecolor": "white",
            "ticks": ""
           },
           "baxis": {
            "gridcolor": "white",
            "linecolor": "white",
            "ticks": ""
           },
           "bgcolor": "#E5ECF6",
           "caxis": {
            "gridcolor": "white",
            "linecolor": "white",
            "ticks": ""
           }
          },
          "title": {
           "x": 0.05
          },
          "xaxis": {
           "automargin": true,
           "gridcolor": "white",
           "linecolor": "white",
           "ticks": "",
           "title": {
            "standoff": 15
           },
           "zerolinecolor": "white",
           "zerolinewidth": 2
          },
          "yaxis": {
           "automargin": true,
           "gridcolor": "white",
           "linecolor": "white",
           "ticks": "",
           "title": {
            "standoff": 15
           },
           "zerolinecolor": "white",
           "zerolinewidth": 2
          }
         }
        },
        "yaxis": {
         "range": [
          -0.1,
          1.1
         ]
        }
       }
      }
     },
     "metadata": {},
     "output_type": "display_data"
    }
   ],
   "source": [
    "import plotly.graph_objects as go\n",
    "import numpy as np\n",
    "fig = go.Figure()\n",
    "fig.add_trace(\n",
    "    go.Scatter(x=df[\"weight\"], y=df[\"obese\"]*1+np.random.normal(scale=0.02, size=len(df)), mode='markers')\n",
    ")\n",
    "fig.add_trace(\n",
    "    go.Scatter(x=x.squeeze().detach().numpy(), y=y.squeeze().detach().numpy())\n",
    ")\n",
    "fig.update_layout(\n",
    "    yaxis_range=[-0.1,1.1],\n",
    ")\n",
    "fig"
   ]
  },
  {
   "cell_type": "code",
   "execution_count": 29,
   "metadata": {},
   "outputs": [
    {
     "name": "stdout",
     "output_type": "stream",
     "text": [
      "Parameter containing:\n",
      "tensor([[0.0091]], requires_grad=True)\n",
      "Parameter containing:\n",
      "tensor([-1.2604], requires_grad=True)\n"
     ]
    }
   ],
   "source": [
    "for x in learner.model.parameters():\n",
    "    print(x)"
   ]
  },
  {
   "cell_type": "code",
   "execution_count": null,
   "metadata": {},
   "outputs": [],
   "source": [
    "from torch import nn"
   ]
  },
  {
   "cell_type": "code",
   "execution_count": null,
   "metadata": {},
   "outputs": [],
   "source": [
    "loss = nn.BCELoss()"
   ]
  },
  {
   "cell_type": "code",
   "execution_count": null,
   "metadata": {},
   "outputs": [],
   "source": [
    "loss(torch.FloatTensor([0.999]),torch.FloatTensor([1.0]))"
   ]
  },
  {
   "cell_type": "code",
   "execution_count": null,
   "metadata": {},
   "outputs": [],
   "source": [
    "nn.BCEWithLogitsLoss()(torch.FloatTensor([-20]),torch.FloatTensor([0.0]))"
   ]
  },
  {
   "cell_type": "code",
   "execution_count": null,
   "metadata": {},
   "outputs": [],
   "source": [
    "learner = app.learner(csv=csv_path, x=\"weight\", y=\"obese\")"
   ]
  },
  {
   "cell_type": "code",
   "execution_count": null,
   "metadata": {},
   "outputs": [],
   "source": [
    "batch = learner.dls.train.one_batch()"
   ]
  },
  {
   "cell_type": "code",
   "execution_count": null,
   "metadata": {},
   "outputs": [],
   "source": [
    "batch[0].shape"
   ]
  },
  {
   "cell_type": "code",
   "execution_count": null,
   "metadata": {},
   "outputs": [],
   "source": [
    "batch[1].dtype"
   ]
  },
  {
   "cell_type": "code",
   "execution_count": null,
   "metadata": {},
   "outputs": [],
   "source": [
    "import torch\n",
    "from torch import nn"
   ]
  },
  {
   "cell_type": "code",
   "execution_count": null,
   "metadata": {},
   "outputs": [],
   "source": [
    "loss = nn.BCEWithLogitsLoss()"
   ]
  },
  {
   "cell_type": "code",
   "execution_count": null,
   "metadata": {},
   "outputs": [],
   "source": [
    "x = torch.Tensor([-1,1.5])\n",
    "y = torch.Tensor([False,False])"
   ]
  },
  {
   "cell_type": "code",
   "execution_count": null,
   "metadata": {},
   "outputs": [],
   "source": [
    "loss(x,y)"
   ]
  },
  {
   "cell_type": "code",
   "execution_count": null,
   "metadata": {},
   "outputs": [],
   "source": [
    "y.dtype"
   ]
  },
  {
   "cell_type": "code",
   "execution_count": null,
   "metadata": {},
   "outputs": [],
   "source": [
    "from fastai.metrics import accuracy, APScoreBinary"
   ]
  },
  {
   "cell_type": "code",
   "execution_count": null,
   "metadata": {},
   "outputs": [],
   "source": [
    "APScoreBinary()(x,y)"
   ]
  },
  {
   "cell_type": "code",
   "execution_count": null,
   "metadata": {},
   "outputs": [],
   "source": [
    "def logit_accuracy(predictions, target):\n",
    "    return ((predictions > 0.0) == (target > 0.5)).float().mean()\n",
    "    predicted_positives = (predictions > 0.0)\n",
    "    predicted_negatives = ~predicted_positives\n",
    "    actual_positives = (target > 0.5)\n",
    "    actual_negatives = ~actual_positives\n",
    "    true_positives = (predicted_positives == actual_positives).sum()\n",
    "    true_negatives = (predicted_negatives == actual_negatives).sum()\n",
    "\n",
    "    print()\n",
    "\n",
    "    return (true_positives + true_negatives)/(actual_positives.sum() + actual_negatives.sum())"
   ]
  },
  {
   "cell_type": "code",
   "execution_count": null,
   "metadata": {},
   "outputs": [],
   "source": [
    "logit_accuracy"
   ]
  },
  {
   "cell_type": "code",
   "execution_count": null,
   "metadata": {},
   "outputs": [],
   "source": [
    "~(torch.Tensor([0.2, -0.2]) > 0.0)"
   ]
  },
  {
   "cell_type": "code",
   "execution_count": null,
   "metadata": {},
   "outputs": [],
   "source": [
    "from sklearn.metrics import f1_score\n",
    "def logit_f1(logits, target):\n",
    "    predictions = (logits > 0.0)\n",
    "    target_binary = (target > 0.5)\n",
    "    return f1_score(predictions.cpu(), target_binary.cpu())\n"
   ]
  },
  {
   "cell_type": "code",
   "execution_count": null,
   "metadata": {},
   "outputs": [],
   "source": [
    "logits = torch.Tensor([-1,1.5,1.0, 0.5, -0.1, -0.1, -0.1])\n",
    "actual = torch.Tensor([False,True, True, True, True, True, False])"
   ]
  },
  {
   "cell_type": "code",
   "execution_count": null,
   "metadata": {},
   "outputs": [],
   "source": [
    "logit_accuracy(logits,actual)"
   ]
  },
  {
   "cell_type": "code",
   "execution_count": null,
   "metadata": {},
   "outputs": [],
   "source": [
    "logit_f1(logits,actual)"
   ]
  },
  {
   "cell_type": "code",
   "execution_count": null,
   "metadata": {},
   "outputs": [],
   "source": [
    "accuracy(x,y)"
   ]
  }
 ],
 "metadata": {
  "interpreter": {
   "hash": "04823184ed011c1bdcb4507ba592a8d7dc72412185dfb20b36adb38487ccbe63"
  },
  "kernelspec": {
   "display_name": "Python 3.9.10 ('.venv': poetry)",
   "language": "python",
   "name": "python3"
  },
  "language_info": {
   "codemirror_mode": {
    "name": "ipython",
    "version": 3
   },
   "file_extension": ".py",
   "mimetype": "text/x-python",
   "name": "python",
   "nbconvert_exporter": "python",
   "pygments_lexer": "ipython3",
   "version": "3.9.10"
  }
 },
 "nbformat": 4,
 "nbformat_minor": 2
}
